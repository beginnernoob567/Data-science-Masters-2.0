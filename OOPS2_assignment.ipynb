{
 "cells": [
  {
   "cell_type": "markdown",
   "id": "4a874a99-d5c2-4ab7-8e10-94daf0f67457",
   "metadata": {},
   "source": [
    "Q1, Create a vehicle class with an init method having instance variables as name_of_vehicle, max_speed\n",
    "and average_of_vehicle."
   ]
  },
  {
   "cell_type": "code",
   "execution_count": 9,
   "id": "a23f1460-feb9-434a-bcb3-8db710115743",
   "metadata": {},
   "outputs": [],
   "source": [
    "class vehicle:\n",
    "    def __init__(self,name_of_vehicle,max_speed,average_of_vehicle):\n",
    "        self.name=name_of_vehicle\n",
    "        self.max_speed=max_speed\n",
    "        self.avg_vehicle=average_of_vehicle\n",
    "    def display(self):\n",
    "        print(f\"Vehicle name is: {self.name}\")\n",
    "        print(f\"Max Speed of {self.name} is: {self.max_speed}\")\n",
    "        print(f\"Average of {self.name} is: {self.avg_vehicle}\")\n",
    "vehicle1=vehicle('TATA PUNCH','150KMPH','24km/L')"
   ]
  },
  {
   "cell_type": "code",
   "execution_count": 10,
   "id": "cf7df5a3-6606-43a1-9f73-1bd7a5875507",
   "metadata": {},
   "outputs": [
    {
     "name": "stdout",
     "output_type": "stream",
     "text": [
      "Vehicle name is: TATA PUNCH\n",
      "Max Speed of TATA PUNCH is: 150KMPH\n",
      "Average of TATA PUNCH is: 24km/L\n"
     ]
    }
   ],
   "source": [
    "vehicle1.display()"
   ]
  },
  {
   "cell_type": "code",
   "execution_count": 11,
   "id": "4232673d-17b0-442c-8ed1-a48f962884b1",
   "metadata": {},
   "outputs": [],
   "source": [
    "vehicle2=vehicle('MClaren f1','350KMPH','15km/L')"
   ]
  },
  {
   "cell_type": "code",
   "execution_count": 12,
   "id": "24b1b23b-cef2-43bd-8c0f-badad29ad917",
   "metadata": {},
   "outputs": [
    {
     "name": "stdout",
     "output_type": "stream",
     "text": [
      "Vehicle name is: MClaren f1\n",
      "Max Speed of MClaren f1 is: 350KMPH\n",
      "Average of MClaren f1 is: 15km/L\n"
     ]
    }
   ],
   "source": [
    "vehicle2.display()"
   ]
  },
  {
   "cell_type": "markdown",
   "id": "76e0bb22-71fd-42e1-827c-caaec40906f8",
   "metadata": {},
   "source": [
    "Q2. Create a child class car from the vehicle class created in Que 1, which will inherit the vehicle class.\n",
    "Create a method named seating_capacity which takes capacity as an argument and returns the name of\n",
    "the vehicle and its seating capacity."
   ]
  },
  {
   "cell_type": "code",
   "execution_count": 13,
   "id": "ffd1a861-034b-4fbd-b5de-102a71564eec",
   "metadata": {},
   "outputs": [],
   "source": [
    "class car(vehicle):\n",
    "    def seating_capacity(self,capacity):\n",
    "        self.seats=capacity\n",
    "        print(f\"The vehicle {self.name} has a seating capacity of : {self.seats}\")"
   ]
  },
  {
   "cell_type": "code",
   "execution_count": 16,
   "id": "55f116b0-57c9-48db-8e32-b6fc5f6f5e96",
   "metadata": {},
   "outputs": [],
   "source": [
    "car_obj1=car('TATA PUNCH','150KMPH','24km/L')\n",
    "car_obj2=car('MClaren f1','350KMPH','15km/L')"
   ]
  },
  {
   "cell_type": "code",
   "execution_count": 17,
   "id": "89f7b816-d10e-4b60-9939-c3c5b416dd40",
   "metadata": {},
   "outputs": [
    {
     "name": "stdout",
     "output_type": "stream",
     "text": [
      "The vehicle TATA PUNCH has a seating capacity of : 4\n",
      "The vehicle MClaren f1 has a seating capacity of : 2\n"
     ]
    }
   ],
   "source": [
    "car_obj1.seating_capacity(4)\n",
    "car_obj2.seating_capacity(2)"
   ]
  },
  {
   "cell_type": "markdown",
   "id": "d52e3057-3684-4b84-a11d-8dcdef5f070e",
   "metadata": {},
   "source": [
    "Q3. What is multiple inheritance? Write a python code to demonstrate multiple inheritance."
   ]
  },
  {
   "cell_type": "code",
   "execution_count": 3,
   "id": "083644fb-27a5-44fb-81e6-ba256d4431f6",
   "metadata": {},
   "outputs": [],
   "source": [
    "#Multiple inheritance is a type of inheritance where we have more than one parent class for only one child class"
   ]
  },
  {
   "cell_type": "code",
   "execution_count": 4,
   "id": "6d2b41be-c0bd-4704-bc5d-6e152219bfeb",
   "metadata": {},
   "outputs": [
    {
     "name": "stdout",
     "output_type": "stream",
     "text": [
      "Parent1: Mom\n",
      "Parent2: Dad\n"
     ]
    }
   ],
   "source": [
    "# Multiple Inheritance:\n",
    "\n",
    "class parent1:\n",
    "    def parent1_func(self,Name1):\n",
    "        self.Name1=Name1\n",
    "        return self.Name1\n",
    "class parent2:\n",
    "    def parent2_func(self,Name2):\n",
    "        self.Name2=Name2\n",
    "        return self.Name2\n",
    "    \n",
    "class child(parent1,parent2):\n",
    "    def kid(self):\n",
    "        print(\"Parent1: \"+self.parent1_func(\"Mom\"))\n",
    "        print(\"Parent2: \"+self.parent2_func(\"Dad\"))\n",
    "        \n",
    "\n",
    "obj1=child()\n",
    "obj1.kid()\n"
   ]
  },
  {
   "cell_type": "markdown",
   "id": "5bffae3a-df17-46bd-bfa2-7f56fbd2eea9",
   "metadata": {},
   "source": [
    "Q4. What are getter and setter in python? Create a class and create a getter and a setter method in this\n",
    "class."
   ]
  },
  {
   "cell_type": "code",
   "execution_count": 5,
   "id": "321b4655-2afc-4ea8-b3a1-6e4794bec701",
   "metadata": {},
   "outputs": [],
   "source": [
    "# Getter and setter in python are used to accesss tha private members of a class and change the values if necessary"
   ]
  },
  {
   "cell_type": "code",
   "execution_count": 78,
   "id": "baea2bb2-5f1d-40b1-8765-7145e85c8258",
   "metadata": {},
   "outputs": [],
   "source": [
    "# Example\n",
    "class get_set:\n",
    "    def __init__(self,priv1):\n",
    "        self.__privMember1=priv1\n",
    "    @property\n",
    "    def display(self):\n",
    "        return self.__privMember1\n",
    "    @display.setter\n",
    "    def setting(self,num1):\n",
    "        self.__privMember1=num1"
   ]
  },
  {
   "cell_type": "code",
   "execution_count": 79,
   "id": "3092dd93-6d84-4d9b-beba-20e60227e005",
   "metadata": {},
   "outputs": [],
   "source": [
    "obj2=get_set(56)"
   ]
  },
  {
   "cell_type": "code",
   "execution_count": 80,
   "id": "11d7b61a-b031-47b3-9e3f-b0b73da4aa4a",
   "metadata": {},
   "outputs": [
    {
     "data": {
      "text/plain": [
       "56"
      ]
     },
     "execution_count": 80,
     "metadata": {},
     "output_type": "execute_result"
    }
   ],
   "source": [
    "obj2.display"
   ]
  },
  {
   "cell_type": "code",
   "execution_count": 81,
   "id": "c302b243-6c81-4989-a68b-5466df885af6",
   "metadata": {},
   "outputs": [],
   "source": [
    "obj2.setting=78"
   ]
  },
  {
   "cell_type": "code",
   "execution_count": 82,
   "id": "bb6e9187-083a-476d-8d3b-49471802b96d",
   "metadata": {},
   "outputs": [
    {
     "data": {
      "text/plain": [
       "78"
      ]
     },
     "execution_count": 82,
     "metadata": {},
     "output_type": "execute_result"
    }
   ],
   "source": [
    "obj2.display"
   ]
  },
  {
   "cell_type": "code",
   "execution_count": 83,
   "id": "7d639a48-7c37-4ac0-a729-ec53c029158c",
   "metadata": {},
   "outputs": [],
   "source": [
    "obj2.setting=6754653"
   ]
  },
  {
   "cell_type": "code",
   "execution_count": 84,
   "id": "ec08b036-fa0b-4352-9484-b4fd9e9f0591",
   "metadata": {},
   "outputs": [
    {
     "data": {
      "text/plain": [
       "6754653"
      ]
     },
     "execution_count": 84,
     "metadata": {},
     "output_type": "execute_result"
    }
   ],
   "source": [
    "obj2.display"
   ]
  },
  {
   "cell_type": "markdown",
   "id": "59521b25-4fa5-4d21-8e84-0fc932fb8adf",
   "metadata": {},
   "source": [
    "Q5.What is method overriding in python? Write a python code to demonstrate method overriding."
   ]
  },
  {
   "cell_type": "code",
   "execution_count": 85,
   "id": "e9246d9d-8b7d-425b-b513-64487762ec6f",
   "metadata": {},
   "outputs": [],
   "source": [
    "# Method Overriding is a concept in OOPS wherein a method that is already defined in the parent class can be re-defined by the child class"
   ]
  },
  {
   "cell_type": "code",
   "execution_count": 86,
   "id": "1bb670e4-9170-4c7c-994b-c0d36f79a018",
   "metadata": {},
   "outputs": [
    {
     "name": "stdout",
     "output_type": "stream",
     "text": [
      "Inside Parent\n",
      "Inside Child\n"
     ]
    }
   ],
   "source": [
    "# Example:\n",
    "class Parent(): \n",
    "    def __init__(self): \n",
    "        self.value = \"Inside Parent\"\n",
    "          \n",
    "    def show(self): \n",
    "        print(self.value) \n",
    "          \n",
    "class Child(Parent): \n",
    "    def __init__(self): \n",
    "        self.value = \"Inside Child\"\n",
    "    def show(self): \n",
    "        print(self.value) \n",
    "          \n",
    "obj1 = Parent() \n",
    "obj2 = Child() \n",
    "  \n",
    "obj1.show() \n",
    "obj2.show()"
   ]
  },
  {
   "cell_type": "code",
   "execution_count": null,
   "id": "5cea9e9e-1176-4f97-8372-0f7ac9f80066",
   "metadata": {},
   "outputs": [],
   "source": []
  }
 ],
 "metadata": {
  "kernelspec": {
   "display_name": "Python 3 (ipykernel)",
   "language": "python",
   "name": "python3"
  },
  "language_info": {
   "codemirror_mode": {
    "name": "ipython",
    "version": 3
   },
   "file_extension": ".py",
   "mimetype": "text/x-python",
   "name": "python",
   "nbconvert_exporter": "python",
   "pygments_lexer": "ipython3",
   "version": "3.10.8"
  }
 },
 "nbformat": 4,
 "nbformat_minor": 5
}
