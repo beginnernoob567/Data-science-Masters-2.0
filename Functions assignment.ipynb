{
 "cells": [
  {
   "cell_type": "markdown",
   "id": "c9290a0f-b129-4ba6-bb83-dfde820a4304",
   "metadata": {},
   "source": [
    "Q1. Which keyword is used to create a function? Create a function to return a list of odd numbers in the\n",
    "range of 1 to 25."
   ]
  },
  {
   "cell_type": "code",
   "execution_count": 3,
   "id": "e5f74ed0-0f7e-4a52-928b-2bd00a39d2ae",
   "metadata": {},
   "outputs": [
    {
     "name": "stdout",
     "output_type": "stream",
     "text": [
      "Here is a function to return odd numbers between the range of 1 to 25\n",
      "Odd numbers are: [1, 3, 5, 7, 9, 11, 13, 15, 17, 19, 21, 23, 25]\n"
     ]
    }
   ],
   "source": [
    "# \" def \" keyword is used to define a funciton\n",
    "\n",
    "print('Here is a function to return odd numbers between the range of 1 to 25')\n",
    "def odd(x):\n",
    "    odd_nums=[]\n",
    "    for i in x:\n",
    "        if i%2!=0:\n",
    "            odd_nums.append(i)\n",
    "    return odd_nums\n",
    "print(f\"Odd numbers are: {odd([i for i in range(1,26)])}\")"
   ]
  },
  {
   "cell_type": "markdown",
   "id": "00f924ff-78f3-4a4a-8682-2f8af7c6c73e",
   "metadata": {},
   "source": [
    "Q2. Why *args and **kwargs is used in some functions? Create a function each for *args and **kwargs to\n",
    "demonstrate their use."
   ]
  },
  {
   "cell_type": "code",
   "execution_count": 4,
   "id": "ca792166-5e39-4f53-84d2-838b44180e58",
   "metadata": {},
   "outputs": [
    {
     "name": "stdout",
     "output_type": "stream",
     "text": [
      "Using ' * ' in funcions: \n",
      "6\n",
      "Using ' ** ' in functions\n",
      "a\n",
      "b\n",
      "c\n",
      "d\n",
      "None\n",
      "Zero\n",
      "One\n",
      "Two\n",
      "Three\n",
      "None\n"
     ]
    }
   ],
   "source": [
    "# ' * ' indicates that the function can have n number of parameters\n",
    "def prod(*args):\n",
    "    prod=1\n",
    "    for i in args:\n",
    "        prod*=i\n",
    "    return prod\n",
    "print(\"Using ' * ' in funcions: \")\n",
    "print(prod(1,2,3))\n",
    "# ' ** ' indicates that the function can take a dictionary as an parameter\n",
    "\n",
    "dictionary={}\n",
    "\n",
    "def keys(**kwargs):\n",
    "    for key in kwargs:\n",
    "        print(key)\n",
    "\n",
    "def values(**kwargs):\n",
    "    for key in kwargs.values():\n",
    "        print(key)\n",
    "print(\"Using ' ** ' in functions\")\n",
    "print(keys(a='Zero',b='One',c='Two',d='Three'))\n",
    "print(values(a='Zero',b='One',c='Two',d='Three'))\n",
    "#values(dictionary)"
   ]
  },
  {
   "cell_type": "markdown",
   "id": "b6046ca9-ac93-4c0c-b45f-e3d683c0e1ed",
   "metadata": {},
   "source": [
    "Q3. What is an iterator in python? Name the method used to initialise the iterator object and the method\n",
    "used for iteration. Use these methods to print the first five elements of the given list [2, 4, 6, 8, 10, 12, 14, 16,\n",
    "18, 20]."
   ]
  },
  {
   "cell_type": "code",
   "execution_count": 8,
   "id": "1030ea50-72fa-4ab8-a323-9e629ee55933",
   "metadata": {},
   "outputs": [
    {
     "name": "stdout",
     "output_type": "stream",
     "text": [
      "2\n",
      "4\n",
      "6\n",
      "8\n",
      "10\n"
     ]
    }
   ],
   "source": [
    "# An iterator is a fucntion that iterates or goes to each and every element in the given elemnt or list of values\n",
    "# the range method is use to initialise the iterator.\n",
    "list1=[2,4,6,8,10,12,14,16,18,20]\n",
    "\n",
    "for i in range(5):\n",
    "    print(list1[i])"
   ]
  },
  {
   "cell_type": "markdown",
   "id": "386c661b-dad6-48ca-8846-5fb754019d0c",
   "metadata": {},
   "source": [
    "Q4. What is a generator function in python? Why yield keyword is used? Give an example of a generator\n",
    "function."
   ]
  },
  {
   "cell_type": "code",
   "execution_count": 9,
   "id": "7d280b8a-7c95-4450-b505-5cd4adde2dc4",
   "metadata": {},
   "outputs": [
    {
     "name": "stdout",
     "output_type": "stream",
     "text": [
      "2\n",
      "4\n",
      "6\n",
      "8\n",
      "10\n"
     ]
    }
   ],
   "source": [
    "# A generator function is used for an iterator. It works like the range funciton and instead of return we use the ' yield ' keyword\n",
    "def generator(x):  \n",
    "    given_list=[2,4,6,8,10,12,14,16,18,20]\n",
    "    for i in range(x):       #we use the range function to iterate through the lsit\n",
    "        yield given_list[i]  #We use the yield to return the values one by one\n",
    "\n",
    "for i in generator(5):   #We return the values one at a time\n",
    "    print(i)"
   ]
  },
  {
   "cell_type": "markdown",
   "id": "1a32e9f1-3617-41cd-8f77-35cf6f0dcf39",
   "metadata": {},
   "source": [
    "Q5. Create a generator function for prime numbers less than 1000. Use the next() method to print the\n",
    "first 20 prime numbers."
   ]
  },
  {
   "cell_type": "code",
   "execution_count": 33,
   "id": "43fe3a3d-c62c-4eb8-85f3-4fbaa8b5dad6",
   "metadata": {},
   "outputs": [],
   "source": [
    "def prime_check(x):\n",
    "    flag=0\n",
    "    for i in range(2,int(x/2)):\n",
    "        if (x%i)==0:\n",
    "            flag=1\n",
    "    return flag"
   ]
  },
  {
   "cell_type": "code",
   "execution_count": 36,
   "id": "b77c2160-3580-48d5-8141-d663910e5b4c",
   "metadata": {},
   "outputs": [],
   "source": [
    "flags=[]\n",
    "for i in range(1000):\n",
    "    if prime_check(i)==0:\n",
    "        flags.append(i)"
   ]
  },
  {
   "cell_type": "code",
   "execution_count": 37,
   "id": "179558e5-3dab-4682-8e00-47edd489b4a7",
   "metadata": {
    "collapsed": true,
    "jupyter": {
     "outputs_hidden": true
    },
    "tags": []
   },
   "outputs": [
    {
     "data": {
      "text/plain": [
       "[0,\n",
       " 1,\n",
       " 2,\n",
       " 3,\n",
       " 4,\n",
       " 5,\n",
       " 7,\n",
       " 11,\n",
       " 13,\n",
       " 17,\n",
       " 19,\n",
       " 23,\n",
       " 29,\n",
       " 31,\n",
       " 37,\n",
       " 41,\n",
       " 43,\n",
       " 47,\n",
       " 53,\n",
       " 59,\n",
       " 61,\n",
       " 67,\n",
       " 71,\n",
       " 73,\n",
       " 79,\n",
       " 83,\n",
       " 89,\n",
       " 97,\n",
       " 101,\n",
       " 103,\n",
       " 107,\n",
       " 109,\n",
       " 113,\n",
       " 127,\n",
       " 131,\n",
       " 137,\n",
       " 139,\n",
       " 149,\n",
       " 151,\n",
       " 157,\n",
       " 163,\n",
       " 167,\n",
       " 173,\n",
       " 179,\n",
       " 181,\n",
       " 191,\n",
       " 193,\n",
       " 197,\n",
       " 199,\n",
       " 211,\n",
       " 223,\n",
       " 227,\n",
       " 229,\n",
       " 233,\n",
       " 239,\n",
       " 241,\n",
       " 251,\n",
       " 257,\n",
       " 263,\n",
       " 269,\n",
       " 271,\n",
       " 277,\n",
       " 281,\n",
       " 283,\n",
       " 293,\n",
       " 307,\n",
       " 311,\n",
       " 313,\n",
       " 317,\n",
       " 331,\n",
       " 337,\n",
       " 347,\n",
       " 349,\n",
       " 353,\n",
       " 359,\n",
       " 367,\n",
       " 373,\n",
       " 379,\n",
       " 383,\n",
       " 389,\n",
       " 397,\n",
       " 401,\n",
       " 409,\n",
       " 419,\n",
       " 421,\n",
       " 431,\n",
       " 433,\n",
       " 439,\n",
       " 443,\n",
       " 449,\n",
       " 457,\n",
       " 461,\n",
       " 463,\n",
       " 467,\n",
       " 479,\n",
       " 487,\n",
       " 491,\n",
       " 499,\n",
       " 503,\n",
       " 509,\n",
       " 521,\n",
       " 523,\n",
       " 541,\n",
       " 547,\n",
       " 557,\n",
       " 563,\n",
       " 569,\n",
       " 571,\n",
       " 577,\n",
       " 587,\n",
       " 593,\n",
       " 599,\n",
       " 601,\n",
       " 607,\n",
       " 613,\n",
       " 617,\n",
       " 619,\n",
       " 631,\n",
       " 641,\n",
       " 643,\n",
       " 647,\n",
       " 653,\n",
       " 659,\n",
       " 661,\n",
       " 673,\n",
       " 677,\n",
       " 683,\n",
       " 691,\n",
       " 701,\n",
       " 709,\n",
       " 719,\n",
       " 727,\n",
       " 733,\n",
       " 739,\n",
       " 743,\n",
       " 751,\n",
       " 757,\n",
       " 761,\n",
       " 769,\n",
       " 773,\n",
       " 787,\n",
       " 797,\n",
       " 809,\n",
       " 811,\n",
       " 821,\n",
       " 823,\n",
       " 827,\n",
       " 829,\n",
       " 839,\n",
       " 853,\n",
       " 857,\n",
       " 859,\n",
       " 863,\n",
       " 877,\n",
       " 881,\n",
       " 883,\n",
       " 887,\n",
       " 907,\n",
       " 911,\n",
       " 919,\n",
       " 929,\n",
       " 937,\n",
       " 941,\n",
       " 947,\n",
       " 953,\n",
       " 967,\n",
       " 971,\n",
       " 977,\n",
       " 983,\n",
       " 991,\n",
       " 997]"
      ]
     },
     "execution_count": 37,
     "metadata": {},
     "output_type": "execute_result"
    }
   ],
   "source": [
    "flags"
   ]
  },
  {
   "cell_type": "code",
   "execution_count": 45,
   "id": "858d7359-2c3d-4cf0-9615-4849f83d7507",
   "metadata": {},
   "outputs": [
    {
     "name": "stdout",
     "output_type": "stream",
     "text": [
      "0\n",
      "1\n",
      "2\n",
      "3\n",
      "4\n",
      "5\n",
      "7\n",
      "11\n",
      "13\n",
      "17\n",
      "19\n",
      "23\n",
      "29\n",
      "31\n",
      "37\n",
      "41\n",
      "43\n",
      "47\n",
      "53\n",
      "59\n"
     ]
    }
   ],
   "source": [
    "flags=iter(flags)\n",
    "for i in range(20):\n",
    "    item=next(flags,\"end\")\n",
    "    if item==\"end\":\n",
    "        break\n",
    "    print(item)"
   ]
  },
  {
   "cell_type": "code",
   "execution_count": null,
   "id": "76220666-bb17-4ac1-913a-debbf97311aa",
   "metadata": {},
   "outputs": [],
   "source": []
  }
 ],
 "metadata": {
  "kernelspec": {
   "display_name": "Python 3 (ipykernel)",
   "language": "python",
   "name": "python3"
  },
  "language_info": {
   "codemirror_mode": {
    "name": "ipython",
    "version": 3
   },
   "file_extension": ".py",
   "mimetype": "text/x-python",
   "name": "python",
   "nbconvert_exporter": "python",
   "pygments_lexer": "ipython3",
   "version": "3.10.8"
  }
 },
 "nbformat": 4,
 "nbformat_minor": 5
}
