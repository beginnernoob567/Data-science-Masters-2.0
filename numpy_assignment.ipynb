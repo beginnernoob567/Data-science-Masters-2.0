{
 "cells": [
  {
   "cell_type": "code",
   "execution_count": 2,
   "id": "bfb01300-9ba7-4227-b06b-55ca669453cb",
   "metadata": {},
   "outputs": [],
   "source": [
    "import numpy as np\n",
    "list_ = [ '1' , '2' , '3' , '4' , '5' ]\n",
    "array_list = np.array(object = list_)"
   ]
  },
  {
   "cell_type": "markdown",
   "id": "55bb91ae-75be-422b-9ae9-c77779ce2a41",
   "metadata": {},
   "source": [
    "Q1. Is there any difference in the data type of variables list_ and array_list? If there is then write a code\n",
    "to print the data types of both the variables."
   ]
  },
  {
   "cell_type": "code",
   "execution_count": 9,
   "id": "2d3f36cd-575d-4da5-b009-b581b7edbe3b",
   "metadata": {},
   "outputs": [
    {
     "name": "stdout",
     "output_type": "stream",
     "text": [
      "['1', '2', '3', '4', '5']\n",
      "<class 'list'>\n",
      "['1' '2' '3' '4' '5']\n",
      "<class 'numpy.ndarray'>\n"
     ]
    }
   ],
   "source": [
    "# Array and list have their differences.\n",
    "# An list can store various values of different datatypes\n",
    "# An array stores values of the same datatype and is faster while accessing elements.\n",
    "print(list_)\n",
    "print(type(list_))\n",
    "print(array_list)\n",
    "print(type(array_list))\n",
    "#nd signifies N- Dimensional array"
   ]
  },
  {
   "cell_type": "markdown",
   "id": "018b3e34-cf13-43f6-99f6-deda1c918abc",
   "metadata": {},
   "source": [
    "Q2. Write a code to print the data type of each and every element of both the variables list_ and\n",
    "arra_list."
   ]
  },
  {
   "cell_type": "code",
   "execution_count": 16,
   "id": "bfb9efcd-a9e5-4dbd-953e-b8394bc197cc",
   "metadata": {},
   "outputs": [
    {
     "name": "stdout",
     "output_type": "stream",
     "text": [
      "<class 'str'>\n",
      "<class 'str'>\n",
      "<class 'str'>\n",
      "<class 'str'>\n",
      "<class 'str'>\n",
      "<class 'numpy.str_'>\n",
      "<class 'numpy.str_'>\n",
      "<class 'numpy.str_'>\n",
      "<class 'numpy.str_'>\n",
      "<class 'numpy.str_'>\n"
     ]
    }
   ],
   "source": [
    "for i in list_,array_list:\n",
    "    for j in i:\n",
    "        print(type(j))"
   ]
  },
  {
   "cell_type": "markdown",
   "id": "b448d7c2-c05a-403a-b515-b4eb6360f5d6",
   "metadata": {},
   "source": [
    "Q3. Considering the following changes in the variable, array_list:\n",
    "    \n",
    "array_list = np.array(object = list_, dtype = int)\n",
    "\n",
    "Will there be any difference in the data type of the elements present in both the variables, list_ and\n",
    "arra_list? If so then print the data types of each and every element present in both the variables, list_\n",
    "and arra_list."
   ]
  },
  {
   "cell_type": "code",
   "execution_count": 19,
   "id": "28445c38-1b49-46e9-b9fa-10e4db64d508",
   "metadata": {},
   "outputs": [
    {
     "name": "stdout",
     "output_type": "stream",
     "text": [
      "<class 'str'>\n",
      "<class 'str'>\n",
      "<class 'str'>\n",
      "<class 'str'>\n",
      "<class 'str'>\n",
      "<class 'numpy.int64'>\n",
      "<class 'numpy.int64'>\n",
      "<class 'numpy.int64'>\n",
      "<class 'numpy.int64'>\n",
      "<class 'numpy.int64'>\n"
     ]
    }
   ],
   "source": [
    "array_list=np.array(object=list_,dtype=int)\n",
    "#Yes there will be a difference as we are converting string to integer in the changes made.\n",
    "for i in list_,array_list:\n",
    "    for j in i:\n",
    "        print(type(j))"
   ]
  },
  {
   "cell_type": "code",
   "execution_count": 20,
   "id": "efe1191f-ec26-410c-b336-6cde2d025611",
   "metadata": {},
   "outputs": [],
   "source": [
    "import numpy as np\n",
    "num_list = [ [ 1 , 2 , 3 ] , [ 4 , 5 , 6 ] ]\n",
    "num_array = np.array(object = num_list)"
   ]
  },
  {
   "cell_type": "markdown",
   "id": "3c7a9c3e-2182-4408-b90d-b05d4174618a",
   "metadata": {},
   "source": [
    "Q4. Write a code to find the following characteristics of variable, num_array:\n",
    "\n",
    "(i) shape\n",
    "\n",
    "(ii) size"
   ]
  },
  {
   "cell_type": "code",
   "execution_count": 22,
   "id": "5b92855d-6896-429f-a2d3-f17429fc0329",
   "metadata": {},
   "outputs": [
    {
     "name": "stdout",
     "output_type": "stream",
     "text": [
      "(2, 3)\n",
      "6\n"
     ]
    }
   ],
   "source": [
    "# i) Shape\n",
    "print(num_array.shape)\n",
    "# ii) size\n",
    "print(num_array.size)"
   ]
  },
  {
   "cell_type": "markdown",
   "id": "043e4f33-e86d-4b9b-97d1-ee0b00397592",
   "metadata": {},
   "source": [
    "Q5. Write a code to create numpy array of 3*3 matrix containing zeros only, using a numpy array\n",
    "creation function.\n",
    "[Hint: The size of the array will be 9 and the shape will be (3,3).]"
   ]
  },
  {
   "cell_type": "code",
   "execution_count": 31,
   "id": "7e50fc1a-ab9c-4cd1-9c9c-7c62a4b8c8c0",
   "metadata": {},
   "outputs": [
    {
     "data": {
      "text/plain": [
       "matrix([[0., 0., 0.],\n",
       "        [0., 0., 0.],\n",
       "        [0., 0., 0.]])"
      ]
     },
     "execution_count": 31,
     "metadata": {},
     "output_type": "execute_result"
    }
   ],
   "source": [
    "zeroes=np.mat(np.zeros([3,3]))\n",
    "zeroes"
   ]
  },
  {
   "cell_type": "markdown",
   "id": "58f38ee9-d81f-476e-95c3-b84837eda2c1",
   "metadata": {},
   "source": [
    "Q6. Create an identity matrix of shape (5,5) using numpy functions?\n",
    "[Hint: An identity matrix is a matrix containing 1 diagonally and other elements will be 0.]"
   ]
  },
  {
   "cell_type": "code",
   "execution_count": 34,
   "id": "585b0910-0b37-4aa1-ba32-62dc6b3cdcee",
   "metadata": {},
   "outputs": [
    {
     "data": {
      "text/plain": [
       "matrix([[1., 0., 0., 0., 0.],\n",
       "        [0., 1., 0., 0., 0.],\n",
       "        [0., 0., 1., 0., 0.],\n",
       "        [0., 0., 0., 1., 0.],\n",
       "        [0., 0., 0., 0., 1.]])"
      ]
     },
     "execution_count": 34,
     "metadata": {},
     "output_type": "execute_result"
    }
   ],
   "source": [
    "identity=np.mat(np.eye(5))\n",
    "identity"
   ]
  },
  {
   "cell_type": "code",
   "execution_count": null,
   "id": "d2940f4d-c91a-4c80-8f14-4c856c2bd888",
   "metadata": {},
   "outputs": [],
   "source": []
  }
 ],
 "metadata": {
  "kernelspec": {
   "display_name": "Python 3 (ipykernel)",
   "language": "python",
   "name": "python3"
  },
  "language_info": {
   "codemirror_mode": {
    "name": "ipython",
    "version": 3
   },
   "file_extension": ".py",
   "mimetype": "text/x-python",
   "name": "python",
   "nbconvert_exporter": "python",
   "pygments_lexer": "ipython3",
   "version": "3.10.8"
  }
 },
 "nbformat": 4,
 "nbformat_minor": 5
}
