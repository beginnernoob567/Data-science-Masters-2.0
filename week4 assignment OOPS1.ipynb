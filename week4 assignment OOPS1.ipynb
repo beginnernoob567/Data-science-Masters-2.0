{
 "cells": [
  {
   "cell_type": "markdown",
   "id": "163009c7-43a9-4eff-a46f-d322236b05b8",
   "metadata": {},
   "source": [
    "Q1. Explain Class and Object with respect to Object-Oriented Programming. Give a suitable example."
   ]
  },
  {
   "cell_type": "code",
   "execution_count": 4,
   "id": "c067e204-3d20-4234-be17-0e08728c499a",
   "metadata": {},
   "outputs": [
    {
     "name": "stdout",
     "output_type": "stream",
     "text": [
      "This is a function being called inside a class\n"
     ]
    }
   ],
   "source": [
    "# A class is a blueprint that binds functions and variables together and through \n",
    "# which objects are created.\n",
    "# An example of a classs is:\n",
    "\n",
    "class example1:\n",
    "    def funt1(self):\n",
    "        print(\"This is a function being called inside a class\")\n",
    "    def funct2(self,a,b):\n",
    "        print(f\"This is a function that returns addition of {a} + {b}\")\n",
    "        print(a+b)\n",
    "        \n",
    "# To initialize a class we create an object\n",
    "\n",
    "obj1=example1()\n",
    "# we can use this object to call functions inside the class.\n",
    "obj1.funt1()"
   ]
  },
  {
   "cell_type": "code",
   "execution_count": 3,
   "id": "43001481-0aef-491e-8076-119c941cdc52",
   "metadata": {},
   "outputs": [
    {
     "name": "stdout",
     "output_type": "stream",
     "text": [
      "This is a function that returns addition of 5+6\n",
      "11\n"
     ]
    }
   ],
   "source": [
    "obj1.funct2(5,6)"
   ]
  },
  {
   "cell_type": "code",
   "execution_count": 5,
   "id": "5055073f-03e6-4ccc-9dbe-61373a7d26f2",
   "metadata": {},
   "outputs": [],
   "source": [
    "# I can create n number of objects\n",
    "obj2=example1()"
   ]
  },
  {
   "cell_type": "code",
   "execution_count": 6,
   "id": "3ff3eb46-92df-4d16-a28b-02aac548490c",
   "metadata": {},
   "outputs": [
    {
     "name": "stdout",
     "output_type": "stream",
     "text": [
      "This is a function that returns addition of 6 + 7\n",
      "13\n",
      "This is a function that returns addition of 1 + 1\n",
      "2\n"
     ]
    }
   ],
   "source": [
    "obj2.funct2(6,7)\n",
    "obj1.funct2(1,1)"
   ]
  },
  {
   "cell_type": "markdown",
   "id": "bfc4c856-6676-403b-a19d-9146292fa028",
   "metadata": {},
   "source": [
    "Q2. Name the four pillars of OOPs."
   ]
  },
  {
   "cell_type": "code",
   "execution_count": 8,
   "id": "b8e7fddb-f60e-4812-b928-29c61625a1ed",
   "metadata": {},
   "outputs": [
    {
     "name": "stdout",
     "output_type": "stream",
     "text": [
      "The four pillars of oops are: \n",
      "\tInheritance\n",
      "\tPolyorphism\n",
      "\tEncapsulation\n",
      "\tAbstraction\n"
     ]
    }
   ],
   "source": [
    "pillars=[\"Inheritance\",\"Polyorphism\",\"Encapsulation\",\"Abstraction\"]\n",
    "print(\"The four pillars of oops are: \")\n",
    "for i in pillars:\n",
    "    print(\"\\t\"+i)"
   ]
  },
  {
   "cell_type": "markdown",
   "id": "98d5fcff-af06-45d8-9e8d-a551673fc180",
   "metadata": {},
   "source": [
    "Q3. Explain why the __init__() function is used. Give a suitable example."
   ]
  },
  {
   "cell_type": "code",
   "execution_count": 17,
   "id": "84637263-7c19-464a-92c1-4bb4aca9cee3",
   "metadata": {},
   "outputs": [],
   "source": [
    "# the init method in python is used to define a constructor.\n",
    "# In other programming languages a construstor is defined by defining a function with\n",
    "# the same name as the class_name.\n",
    "# But in python it is defined using the \"__init__()\" method\n",
    "\n",
    "class construct:\n",
    "    def __init__(self,a,b):\n",
    "        print(\"This is a constructor.\\nA constructor is called automatically when an instance/object of a class is created.\")\n",
    "        print(f\"Addition inside a constructor of {a} + {b} : \")\n",
    "        print(a+b)\n",
    "    \n",
    "    def funct(self):\n",
    "        print(\"This is a normal function and has to be explicitly called after object creation unlike a constructor\")"
   ]
  },
  {
   "cell_type": "code",
   "execution_count": 18,
   "id": "ba40acb9-a7e8-48c5-b617-3428be31bc4e",
   "metadata": {},
   "outputs": [
    {
     "name": "stdout",
     "output_type": "stream",
     "text": [
      "This is a constructor.\n",
      "A constructor is called automatically when an instance/object of a class is created.\n",
      "Addition inside a constructor of 5 + 6 : \n",
      "11\n"
     ]
    }
   ],
   "source": [
    "obj2=construct(5,6)"
   ]
  },
  {
   "cell_type": "code",
   "execution_count": 19,
   "id": "d503b5cd-9abc-41ca-a491-f1062a14dc8c",
   "metadata": {},
   "outputs": [
    {
     "name": "stdout",
     "output_type": "stream",
     "text": [
      "This is a normal function and has to be explicitly called after object creation unlike a constructor\n"
     ]
    }
   ],
   "source": [
    "obj2.funct()"
   ]
  },
  {
   "cell_type": "code",
   "execution_count": 20,
   "id": "81b2c3e4-eebe-40ed-8951-eb2c89061a9f",
   "metadata": {},
   "outputs": [
    {
     "name": "stdout",
     "output_type": "stream",
     "text": [
      "This is a constructor.\n",
      "A constructor is called automatically when an instance/object of a class is created.\n",
      "Addition inside a constructor of 6 + 7 : \n",
      "13\n"
     ]
    }
   ],
   "source": [
    "# if we want to call the __init__ method explicitly using the object\n",
    "# we can do that the same way\n",
    "\n",
    "obj2.__init__(6,7)"
   ]
  },
  {
   "cell_type": "code",
   "execution_count": 22,
   "id": "7af35f07-3382-4845-a1d1-6f7d33fd5dbf",
   "metadata": {},
   "outputs": [
    {
     "name": "stdout",
     "output_type": "stream",
     "text": [
      "This is a constructor.\n",
      "A constructor is called automatically when an instance/object of a class is created.\n",
      "Addition inside a constructor of 6 + 7 : \n",
      "13\n"
     ]
    }
   ],
   "source": [
    "construct.__init__(construct,6,7)"
   ]
  },
  {
   "cell_type": "markdown",
   "id": "a329f028-0c44-4ce8-9beb-274f60160f63",
   "metadata": {},
   "source": [
    "Q4. Why self is used in OOPs?"
   ]
  },
  {
   "cell_type": "code",
   "execution_count": 34,
   "id": "53f5e05b-c297-4702-beed-f3ee40ed0e90",
   "metadata": {},
   "outputs": [],
   "source": [
    "# self in oops is used to refer the object which is being created for the class.\n",
    "# example:\n",
    "\n",
    "class self_example:\n",
    "    def reference(self):\n",
    "        return id(self)"
   ]
  },
  {
   "cell_type": "code",
   "execution_count": 35,
   "id": "9beb0a99-4815-4446-aa0c-e37fba7125b3",
   "metadata": {},
   "outputs": [
    {
     "name": "stdout",
     "output_type": "stream",
     "text": [
      "140705747973792\n",
      "140705747973792\n"
     ]
    }
   ],
   "source": [
    "obj3=self_example()\n",
    "print(id(obj3))\n",
    "print(obj3.reference())"
   ]
  },
  {
   "cell_type": "code",
   "execution_count": 36,
   "id": "8b360a79-d259-4dcb-a09f-3e691ba34e64",
   "metadata": {},
   "outputs": [
    {
     "name": "stdout",
     "output_type": "stream",
     "text": [
      "140705750894432\n"
     ]
    },
    {
     "data": {
      "text/plain": [
       "140705750894432"
      ]
     },
     "execution_count": 36,
     "metadata": {},
     "output_type": "execute_result"
    }
   ],
   "source": [
    "# As we can see the ID of self and the object created is the same.\n",
    "# This means that the object is the first argument automatically passed by the interpreter.\n",
    "\n",
    "# This is also means that we don't necessarily have to use self. We can use any other name as well.\n",
    "# Example\n",
    "\n",
    "class test:\n",
    "    def prin(random):\n",
    "        return id(random)\n",
    "obj4=test()\n",
    "print(id(obj4))\n",
    "obj4.prin()"
   ]
  },
  {
   "cell_type": "markdown",
   "id": "e4bfd9ea-4996-4822-bd3e-999d3c9edc8d",
   "metadata": {},
   "source": [
    "Q5. What is inheritance? Give an example for each type of inheritance."
   ]
  },
  {
   "cell_type": "code",
   "execution_count": 41,
   "id": "01618fca-1ccc-4db7-ba5f-aeddc09b7a47",
   "metadata": {},
   "outputs": [],
   "source": [
    "# Inheritance is a concept of oops wherein a class can inherit or re-use the properties of another class.\n",
    "# For example:\n",
    "\n",
    "class parent_class:\n",
    "    global_var=686645\n",
    "    def funct1(self):\n",
    "        self.func_var=64\n",
    "        print(\"This is a parent class\")\n",
    "    "
   ]
  },
  {
   "cell_type": "code",
   "execution_count": 75,
   "id": "d0683e9e-61b1-43fe-a67a-e7d8b8ac23ba",
   "metadata": {},
   "outputs": [],
   "source": [
    "class child_class(parent_class):\n",
    "    def fucnt2(self):\n",
    "        print(\"this is child class\")"
   ]
  },
  {
   "cell_type": "code",
   "execution_count": 76,
   "id": "6c989efc-74db-4b64-8b94-03c8e66af7bb",
   "metadata": {},
   "outputs": [
    {
     "name": "stdout",
     "output_type": "stream",
     "text": [
      "this is child class\n"
     ]
    }
   ],
   "source": [
    "obj5=child_class()\n",
    "obj5.fucnt2()"
   ]
  },
  {
   "cell_type": "code",
   "execution_count": 78,
   "id": "04282fc4-23c1-48a3-87ca-0845467a47cb",
   "metadata": {},
   "outputs": [
    {
     "name": "stdout",
     "output_type": "stream",
     "text": [
      "This is a parent class\n"
     ]
    }
   ],
   "source": [
    "obj5.funct1()"
   ]
  },
  {
   "cell_type": "code",
   "execution_count": 74,
   "id": "18cc4282-eea0-4e46-a3b2-e7d37b770a75",
   "metadata": {},
   "outputs": [
    {
     "data": {
      "text/plain": [
       "686645"
      ]
     },
     "execution_count": 74,
     "metadata": {},
     "output_type": "execute_result"
    }
   ],
   "source": [
    "obj5.global_var"
   ]
  },
  {
   "cell_type": "code",
   "execution_count": 79,
   "id": "b027a397-1b40-4a8e-a4c7-a9c3beae7a00",
   "metadata": {},
   "outputs": [],
   "source": [
    "# As we can see after inheriting the properties we can access the functions and variables of the parent class\n",
    "# Using the instance of the child class.\n",
    "\n",
    "# There are various types of inheritance. The one we used above is single level inheritance."
   ]
  },
  {
   "cell_type": "code",
   "execution_count": 83,
   "id": "e168e737-5aa9-41fd-a68d-b8611ee3ee07",
   "metadata": {},
   "outputs": [],
   "source": [
    "# Multiple Inheritance:\n",
    "\n",
    "class parent1:\n",
    "    def parent1_func(self,Name1):\n",
    "        self.Name1=Name1\n",
    "        return self.Name1\n",
    "class parent2:\n",
    "    def parent2_func(self,Name2):\n",
    "        self.Name2=Name2\n",
    "        return self.Name2\n",
    "        "
   ]
  },
  {
   "cell_type": "code",
   "execution_count": 84,
   "id": "6c2d2739-c661-450c-a518-618f385f6eb1",
   "metadata": {},
   "outputs": [],
   "source": [
    "class child(parent1,parent2):\n",
    "    def kid(self):\n",
    "        print(\"Parent1: \"+self.parent1_func(\"Mom\"))\n",
    "        print(\"Parent2: \"+self.parent2_func(\"Dad\"))\n",
    "    "
   ]
  },
  {
   "cell_type": "code",
   "execution_count": 85,
   "id": "3f80c576-2e66-4447-9056-1ab5c09c65c0",
   "metadata": {},
   "outputs": [
    {
     "name": "stdout",
     "output_type": "stream",
     "text": [
      "Parent1: Mom\n",
      "Parent2: Dad\n"
     ]
    }
   ],
   "source": [
    "obj6=child()\n",
    "obj6.kid()"
   ]
  },
  {
   "cell_type": "code",
   "execution_count": 86,
   "id": "d3a04f1e-140c-44fb-aabf-fa6c400ea273",
   "metadata": {},
   "outputs": [],
   "source": [
    "# Multi-Level Inheritance\n",
    "\n",
    "class base_class1:\n",
    "    def base1(self):\n",
    "        print(\"This is base_class1\")\n",
    "        \n",
    "class base_class2(base_class1):\n",
    "    def base2(self):\n",
    "        print(\"This is base_class2\")\n",
    "        \n",
    "class base_class3(base_class2):\n",
    "    def base3(self):\n",
    "        print(\"This is base_class3\")"
   ]
  },
  {
   "cell_type": "code",
   "execution_count": 87,
   "id": "66b9b395-a096-4054-bbfc-80dfcea8342b",
   "metadata": {},
   "outputs": [
    {
     "name": "stdout",
     "output_type": "stream",
     "text": [
      "This is base_class3\n",
      "This is base_class2\n",
      "This is base_class1\n"
     ]
    }
   ],
   "source": [
    "obj7=base_class3()\n",
    "obj7.base3()\n",
    "obj7.base2()\n",
    "obj7.base1()"
   ]
  },
  {
   "cell_type": "code",
   "execution_count": 88,
   "id": "31871bba-093a-4037-b1ea-202b808f1d7a",
   "metadata": {},
   "outputs": [],
   "source": [
    "# Here properties of base_class1 is being inherited by base_class2\n",
    "# And base_class2 properties are being inherited by base_class3"
   ]
  },
  {
   "cell_type": "code",
   "execution_count": null,
   "id": "123539b5-21dc-484c-a749-0fd5bfaf1851",
   "metadata": {},
   "outputs": [],
   "source": []
  }
 ],
 "metadata": {
  "kernelspec": {
   "display_name": "Python 3 (ipykernel)",
   "language": "python",
   "name": "python3"
  },
  "language_info": {
   "codemirror_mode": {
    "name": "ipython",
    "version": 3
   },
   "file_extension": ".py",
   "mimetype": "text/x-python",
   "name": "python",
   "nbconvert_exporter": "python",
   "pygments_lexer": "ipython3",
   "version": "3.10.8"
  }
 },
 "nbformat": 4,
 "nbformat_minor": 5
}
