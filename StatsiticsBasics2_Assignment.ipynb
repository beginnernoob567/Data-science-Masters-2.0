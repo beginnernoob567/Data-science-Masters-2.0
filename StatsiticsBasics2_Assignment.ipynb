{
 "cells": [
  {
   "cell_type": "markdown",
   "id": "d4244574-997e-4102-bc85-50b4093ca5db",
   "metadata": {},
   "source": [
    "# Q1.\n",
    "What are the three measures of central tendency?"
   ]
  },
  {
   "cell_type": "markdown",
   "id": "af8af37e-9a13-44a8-beaf-5ae8c3c39af3",
   "metadata": {},
   "source": [
    "The three measures of central tendency are:\n",
    "\n",
    "    i) Mean:- it gives us the average of the data\n",
    "\n",
    "    ii) Median:- it gives us the central point of the data\n",
    "    \n",
    "    iii) Mode:- it gives us the frequency of the data."
   ]
  },
  {
   "cell_type": "code",
   "execution_count": 2,
   "id": "d24ff125-02fa-4769-9df5-b07391a8968b",
   "metadata": {},
   "outputs": [
    {
     "name": "stdout",
     "output_type": "stream",
     "text": [
      "Mean is used to calculate the average and it gives us a value that tells us our data has an average of this values.\n",
      " A    10.411765\n",
      "dtype: float64\n",
      "Median is used to find the central point of our data which tells us 50% of the values are less than median and 50% are greater\n",
      " A    9.0\n",
      "dtype: float64\n",
      "Mode gives us the Frequency of the data\n",
      "    A\n",
      "0  2\n",
      "1  5\n",
      "2  6\n",
      "3  7\n"
     ]
    }
   ],
   "source": [
    "import pandas as pd\n",
    "list1=[ 23, 21, 18, 16, 15, 13, 12, 10, 9, 7, 6, 5, 2, 7, 6, 5, 2]\n",
    "df3=pd.DataFrame({'A':list1})\n",
    "print('Mean is used to calculate the average and it gives us a value that tells us our data has an average of this values.\\n',df3.mean())\n",
    "print('Median is used to find the central point of our data which tells us 50% of the values are less than median and 50% are greater\\n',df3.median())\n",
    "print('Mode gives us the Frequency of the data\\n',df3.mode())"
   ]
  },
  {
   "cell_type": "markdown",
   "id": "ceae4468-f586-4fa2-9776-d559038e05f6",
   "metadata": {},
   "source": [
    "# Q2. \n",
    "What is the difference between the mean, median, and mode? How are they used to measure the\n",
    "central tendency of a dataset?"
   ]
  },
  {
   "cell_type": "markdown",
   "id": "8ce1bf99-e161-4951-8d92-c7aaf85bb170",
   "metadata": {},
   "source": [
    "The mean gives us an average of the data, which means that our values are somewhere around these numbers.\n",
    "\n",
    "The median gives us the central point which further tells us 50% of the data is greater than the central point and 50% is lesser.\n",
    "\n",
    "The mode gives us the frequency which is nothing but the number of times a value has occured in the data."
   ]
  },
  {
   "cell_type": "code",
   "execution_count": 3,
   "id": "d2b71543-fda3-4564-b13d-22ba4d38ccdf",
   "metadata": {},
   "outputs": [
    {
     "name": "stdout",
     "output_type": "stream",
     "text": [
      "Mean is used to calculate the average and it gives us a value that tells us our data has an average of this values.\n",
      " sepal_length    5.843333\n",
      "sepal_width     3.057333\n",
      "petal_length    3.758000\n",
      "petal_width     1.199333\n",
      "dtype: float64\n",
      "Median is used to find the central point of our data which tells us 50% of the values are less than median and 50% are greater\n",
      " sepal_length    5.80\n",
      "sepal_width     3.00\n",
      "petal_length    4.35\n",
      "petal_width     1.30\n",
      "dtype: float64\n",
      "Mode gives us the Frequency of the data\n",
      "    sepal_length  sepal_width  petal_length  petal_width     species\n",
      "0           5.0          3.0           1.4          0.2      setosa\n",
      "1           NaN          NaN           1.5          NaN  versicolor\n",
      "2           NaN          NaN           NaN          NaN   virginica\n"
     ]
    },
    {
     "name": "stderr",
     "output_type": "stream",
     "text": [
      "/tmp/ipykernel_102/1813961342.py:3: FutureWarning: The default value of numeric_only in DataFrame.mean is deprecated. In a future version, it will default to False. In addition, specifying 'numeric_only=None' is deprecated. Select only valid columns or specify the value of numeric_only to silence this warning.\n",
      "  print('Mean is used to calculate the average and it gives us a value that tells us our data has an average of this values.\\n',iris.mean())\n",
      "/tmp/ipykernel_102/1813961342.py:4: FutureWarning: The default value of numeric_only in DataFrame.median is deprecated. In a future version, it will default to False. In addition, specifying 'numeric_only=None' is deprecated. Select only valid columns or specify the value of numeric_only to silence this warning.\n",
      "  print('Median is used to find the central point of our data which tells us 50% of the values are less than median and 50% are greater\\n',iris.median())\n"
     ]
    }
   ],
   "source": [
    "import seaborn as sns\n",
    "iris=sns.load_dataset('iris')\n",
    "print('Mean is used to calculate the average and it gives us a value that tells us our data has an average of this values.\\n',iris.mean())\n",
    "print('Median is used to find the central point of our data which tells us 50% of the values are less than median and 50% are greater\\n',iris.median())\n",
    "print('Mode gives us the Frequency of the data\\n',iris.mode())"
   ]
  },
  {
   "cell_type": "markdown",
   "id": "86e478e7-3c49-479c-8dbc-c4649c92cf1f",
   "metadata": {},
   "source": [
    "# Q3. \n",
    "Measure the three measures of central tendency for the given height data:\n",
    "\n",
    "[178,177,176,177,178.2,178,175,179,180,175,178.9,176.2,177,172.5,178,176.5]"
   ]
  },
  {
   "cell_type": "code",
   "execution_count": 4,
   "id": "ca6a2c9f-869c-40a8-8135-2512e2b95fcb",
   "metadata": {},
   "outputs": [
    {
     "name": "stdout",
     "output_type": "stream",
     "text": [
      "Mean height: \n",
      " height    177.01875\n",
      "dtype: float64\n",
      "\n",
      "Median of height: \n",
      " height    177.0\n",
      "dtype: float64\n",
      "\n",
      "Mode of height: \n",
      " 0    177.0\n",
      "1    178.0\n",
      "Name: height, dtype: float64\n"
     ]
    }
   ],
   "source": [
    "height=[178,177,176,177,178.2,178,175,179,180,175,178.9,176.2,177,172.5,178,176.5]\n",
    "df1=pd.DataFrame({'height':height})\n",
    "\n",
    "print(\"Mean height: \\n\",df1.mean())\n",
    "print(\"\\nMedian of height: \\n\",df1.median())\n",
    "print(\"\\nMode of height: \\n\",df1['height'].mode())"
   ]
  },
  {
   "cell_type": "markdown",
   "id": "36f5aa31-e493-46de-aa5f-5531962380ce",
   "metadata": {},
   "source": [
    "# Q4. \n",
    "Find the standard deviation for the given data:\n",
    "[178,177,176,177,178.2,178,175,179,180,175,178.9,176.2,177,172.5,178,176.5]"
   ]
  },
  {
   "cell_type": "code",
   "execution_count": 5,
   "id": "738594ad-45ad-4623-9eea-584993e4cbe5",
   "metadata": {},
   "outputs": [
    {
     "name": "stdout",
     "output_type": "stream",
     "text": [
      "True\n",
      "Standard deviation is:  height    1.847239\n",
      "dtype: float64\n"
     ]
    }
   ],
   "source": [
    "height2=[178,177,176,177,178.2,178,175,179,180,175,178.9,176.2,177,172.5,178,176.5]\n",
    "print(height==height2)\n",
    "print(\"Standard deviation is: \",df1.std())"
   ]
  },
  {
   "cell_type": "markdown",
   "id": "45341141-549e-44c5-a2fa-bb12db7dbc39",
   "metadata": {},
   "source": [
    "# Q5. \n",
    "How are measures of dispersion such as range, variance, and standard deviation used to describe\n",
    "the spread of a dataset? Provide an example."
   ]
  },
  {
   "cell_type": "code",
   "execution_count": 6,
   "id": "50886e33-0dce-427a-a21c-e744d546fd91",
   "metadata": {},
   "outputs": [
    {
     "name": "stdout",
     "output_type": "stream",
     "text": [
      "Range of df1 is 180.0-172.5 =  7.5\n",
      "\n",
      "Variance of df1 is:  height    3.412292\n",
      "dtype: float64\n",
      "Standard Deviation of df1 is:  height    1.847239\n",
      "dtype: float64\n",
      "1.847238930584419\n"
     ]
    }
   ],
   "source": [
    "# Range is the difference between the largest and smallest number.\n",
    "print(f\"Range of df1 is {max(df1['height'])}-{min(df1['height'])} = \", max(df1['height'])-min(df1['height']))\n",
    "# Variance is the spread of data. It tells us how far the data is from the mean and other data\n",
    "print(\"\\nVariance of df1 is: \",df1.var())\n",
    "# Standard deviation is also the spread of data and is calculated by the squareroot of variance\n",
    "print(\"Standard Deviation of df1 is: \",df1.std())\n",
    "import math\n",
    "print(math.sqrt(df1.var()))"
   ]
  },
  {
   "cell_type": "markdown",
   "id": "c9c586bd-b704-44c6-8a3c-14fa28925589",
   "metadata": {},
   "source": [
    "# Q6. \n",
    "What is a Venn diagram?"
   ]
  },
  {
   "cell_type": "markdown",
   "id": "c11fc848-cae1-467b-b8a6-e8dd434bb611",
   "metadata": {},
   "source": [
    "A Venn diagram is an illustration that uses circles to show the relationships among things or finite groups of things.\n",
    "Circles that overlap have a commonality while circles that do not overlap do not share those traits."
   ]
  },
  {
   "cell_type": "markdown",
   "id": "add9cc2c-813f-43e0-ab09-f2b6abe5b5b1",
   "metadata": {},
   "source": [
    "# Q7. \n",
    "For the two given sets A = (2,3,4,5,6,7) & B = (0,2,6,8,10). Find:\n",
    "\n",
    "(i) A ∩ B\n",
    "\n",
    "(ii) A ⋃ B"
   ]
  },
  {
   "cell_type": "code",
   "execution_count": 7,
   "id": "64f36689-e89c-4cb0-8fd4-dce6dbf661e4",
   "metadata": {},
   "outputs": [],
   "source": [
    "A = {2,3,4,5,6,7}\n",
    "B = {0,2,6,8,10}"
   ]
  },
  {
   "cell_type": "code",
   "execution_count": 8,
   "id": "07cdb486-5dc8-429e-8508-a6cbfb9dade3",
   "metadata": {},
   "outputs": [
    {
     "data": {
      "text/plain": [
       "{2, 6}"
      ]
     },
     "execution_count": 8,
     "metadata": {},
     "output_type": "execute_result"
    }
   ],
   "source": [
    "# intersection\n",
    "A.intersection(B)"
   ]
  },
  {
   "cell_type": "code",
   "execution_count": 9,
   "id": "811e0a99-9c25-4c47-8954-0fa9b51718e7",
   "metadata": {},
   "outputs": [
    {
     "data": {
      "text/plain": [
       "{0, 2, 3, 4, 5, 6, 7, 8, 10}"
      ]
     },
     "execution_count": 9,
     "metadata": {},
     "output_type": "execute_result"
    }
   ],
   "source": [
    "# Union\n",
    "A.union(B)"
   ]
  },
  {
   "cell_type": "markdown",
   "id": "759e5bda-7895-4ddc-8455-8d1745e939f9",
   "metadata": {},
   "source": [
    "# Q8. \n",
    "What do you understand about skewness in data?"
   ]
  },
  {
   "cell_type": "code",
   "execution_count": 11,
   "id": "9e0c2ed0-514e-49ea-b21c-afc7ef0a07d8",
   "metadata": {},
   "outputs": [],
   "source": [
    "# Skewness tells us how distorted is a normal distribution.\n",
    "# Skewness is demonstrated on a bell curve when the data points are not normally distributed.\n",
    "# We have positve and negative skeweness.\n",
    "# When we have a positive skew our mean>median>mode.\n",
    "# When we have a negative skew our mean<median<mode"
   ]
  },
  {
   "cell_type": "markdown",
   "id": "d6e7bfbe-bed8-42b2-a4d3-38ae78474510",
   "metadata": {},
   "source": [
    "# Q9. \n",
    "If a data is right skewed then what will be the position of median with respect to mean?"
   ]
  },
  {
   "cell_type": "code",
   "execution_count": 18,
   "id": "c638b26d-6718-48e6-bf77-c31ddd47816d",
   "metadata": {},
   "outputs": [
    {
     "data": {
      "image/png": "[encoded data removed]",
      "text/plain": [
       "<Figure size 640x480 with 1 Axes>"
      ]
     },
     "metadata": {},
     "output_type": "display_data"
    }
   ],
   "source": [
    "# If our data is right skewed or positively skewed then our mean will be greater than our median.\n",
    "\n",
    "import numpy as np\n",
    "import matplotlib.pyplot as plt\n",
    "\n",
    "# Parameters for the gamma distribution\n",
    "shape = 2.0  # Shape parameter (should be > 1 for positive skewness)\n",
    "scale = 1.0  # Scale parameter\n",
    "\n",
    "# Generate random data from a gamma distribution\n",
    "data = np.random.gamma(shape, scale, 1000)\n",
    "\n",
    "# Plot the distribution\n",
    "plt.hist(data, bins=30, density=True, alpha=0.7, color='blue')\n",
    "plt.title('Data with Positive Skewness (Gamma Distribution)')\n",
    "plt.xlabel('Values')\n",
    "plt.ylabel('Frequency')\n",
    "plt.show()\n"
   ]
  },
  {
   "cell_type": "markdown",
   "id": "aa52ba63-cf41-4d27-bd8a-812b651ba4bb",
   "metadata": {},
   "source": [
    "# Q10. \n",
    "Explain the difference between covariance and correlation. How are these measures used in\n",
    "statistical analysis?"
   ]
  },
  {
   "cell_type": "code",
   "execution_count": 29,
   "id": "cb5a648e-ef9b-4c89-94a2-bc4d33c06669",
   "metadata": {},
   "outputs": [
    {
     "name": "stdout",
     "output_type": "stream",
     "text": [
      "              sepal_length  sepal_width  petal_length  petal_width\n",
      "sepal_length      0.685694    -0.042434      1.274315     0.516271\n",
      "sepal_width      -0.042434     0.189979     -0.329656    -0.121639\n",
      "petal_length      1.274315    -0.329656      3.116278     1.295609\n",
      "petal_width       0.516271    -0.121639      1.295609     0.581006\n",
      "              sepal_length  sepal_width  petal_length  petal_width\n",
      "sepal_length      1.000000    -0.117570      0.871754     0.817941\n",
      "sepal_width      -0.117570     1.000000     -0.428440    -0.366126\n",
      "petal_length      0.871754    -0.428440      1.000000     0.962865\n",
      "petal_width       0.817941    -0.366126      0.962865     1.000000\n"
     ]
    },
    {
     "name": "stderr",
     "output_type": "stream",
     "text": [
      "/tmp/ipykernel_102/2847321846.py:5: FutureWarning: The default value of numeric_only in DataFrame.cov is deprecated. In a future version, it will default to False. Select only valid columns or specify the value of numeric_only to silence this warning.\n",
      "  print(dataset.cov())\n",
      "/tmp/ipykernel_102/2847321846.py:6: FutureWarning: The default value of numeric_only in DataFrame.corr is deprecated. In a future version, it will default to False. Select only valid columns or specify the value of numeric_only to silence this warning.\n",
      "  print(dataset.corr())\n"
     ]
    }
   ],
   "source": [
    "#Covariance indicates the direction of the linear relationship between variables. \n",
    "#Correlation measures both the strength and direction of the linear relationship between two variables.\n",
    "import seaborn as sns\n",
    "dataset=sns.load_dataset('iris')\n",
    "print(dataset.cov())\n",
    "print(dataset.corr())"
   ]
  },
  {
   "cell_type": "markdown",
   "id": "271dab4d-a868-4878-b5c5-06f295d10643",
   "metadata": {},
   "source": [
    "# Q11. \n",
    "What is the formula for calculating the sample mean? Provide an example calculation for a\n",
    "dataset."
   ]
  },
  {
   "cell_type": "code",
   "execution_count": 60,
   "id": "f762d2b7-5b6f-4f7f-9f1e-c98d78c092b4",
   "metadata": {},
   "outputs": [
    {
     "name": "stdout",
     "output_type": "stream",
     "text": [
      "['sepal_length : 5.843333333333335', 'sepal_width : 3.057333333333334', 'petal_length : 3.7580000000000027', 'petal_width : 1.199333333333334']\n",
      "sepal_length    5.843333\n",
      "sepal_width     3.057333\n",
      "petal_length    3.758000\n",
      "petal_width     1.199333\n",
      "dtype: float64\n"
     ]
    }
   ],
   "source": [
    "# Sample mean is denoted by S.\n",
    "# It is calculated by adding all the sample values and dividing it by the number of samples.\n",
    "# Example\n",
    "def mean_column(x):\n",
    "    add=0\n",
    "    for i in range(len(dataset)):\n",
    "        add+=dataset[x][i]\n",
    "    return add/150\n",
    "\n",
    "means=[]\n",
    "for i in dataset:\n",
    "    means.append(i+\" : \"+str(mean_column(i)))\n",
    "\n",
    "print(means)\n",
    "print(dataset.mean())"
   ]
  },
  {
   "cell_type": "markdown",
   "id": "fb0ec15f-bf63-452c-8ae8-d9d09eb2ecba",
   "metadata": {},
   "source": [
    "# Q12. \n",
    "For a normal distribution data what is the relationship between its measure of central tendency?"
   ]
  },
  {
   "cell_type": "code",
   "execution_count": 70,
   "id": "699973c9-c0f2-47de-912c-94648589a569",
   "metadata": {},
   "outputs": [
    {
     "data": {
      "image/png": "[encoded data removed]",
      "text/plain": [
       "<Figure size 640x480 with 1 Axes>"
      ]
     },
     "metadata": {},
     "output_type": "display_data"
    },
    {
     "name": "stdout",
     "output_type": "stream",
     "text": [
      "100.03616472478967\n",
      "100.06224591399413\n",
      "97.09125365740591\n"
     ]
    }
   ],
   "source": [
    "# For a normal distribution data mean , median and mode are almost the same\n",
    "# Example:\n",
    "import numpy as np\n",
    "import matplotlib.pyplot as plt\n",
    "import statistics as s\n",
    "# Mean of the distribution \n",
    "Mean = 100\n",
    " \n",
    "# satndard deviation of the distribution\n",
    "Standard_deviation  = 5\n",
    "  \n",
    "# size\n",
    "size = 100000\n",
    "  \n",
    "# creating a normal distribution data\n",
    "values = np.random.normal(Mean, Standard_deviation, size)\n",
    "  \n",
    "# plotting histograph\n",
    "plt.hist(values, 100)\n",
    "# plotting mean line\n",
    "plt.axvline(values.mean(), color='k', linestyle='dashed', linewidth=2)\n",
    "plt.show()\n",
    "print(np.mean(values))\n",
    "print(np.median(values))\n",
    "print(s.mode(values))"
   ]
  },
  {
   "cell_type": "markdown",
   "id": "7687b900-5e5e-4664-9938-109abde3a8c7",
   "metadata": {},
   "source": [
    "# Q13.\n",
    "How is covariance different from correlation?"
   ]
  },
  {
   "cell_type": "code",
   "execution_count": 71,
   "id": "1bc0ed19-fa59-497d-b2c3-969976bf8cf4",
   "metadata": {},
   "outputs": [
    {
     "name": "stdout",
     "output_type": "stream",
     "text": [
      "              sepal_length  sepal_width  petal_length  petal_width\n",
      "sepal_length      0.685694    -0.042434      1.274315     0.516271\n",
      "sepal_width      -0.042434     0.189979     -0.329656    -0.121639\n",
      "petal_length      1.274315    -0.329656      3.116278     1.295609\n",
      "petal_width       0.516271    -0.121639      1.295609     0.581006\n",
      "              sepal_length  sepal_width  petal_length  petal_width\n",
      "sepal_length      1.000000    -0.117570      0.871754     0.817941\n",
      "sepal_width      -0.117570     1.000000     -0.428440    -0.366126\n",
      "petal_length      0.871754    -0.428440      1.000000     0.962865\n",
      "petal_width       0.817941    -0.366126      0.962865     1.000000\n"
     ]
    },
    {
     "name": "stderr",
     "output_type": "stream",
     "text": [
      "/tmp/ipykernel_102/2847321846.py:5: FutureWarning: The default value of numeric_only in DataFrame.cov is deprecated. In a future version, it will default to False. Select only valid columns or specify the value of numeric_only to silence this warning.\n",
      "  print(dataset.cov())\n",
      "/tmp/ipykernel_102/2847321846.py:6: FutureWarning: The default value of numeric_only in DataFrame.corr is deprecated. In a future version, it will default to False. Select only valid columns or specify the value of numeric_only to silence this warning.\n",
      "  print(dataset.corr())\n"
     ]
    }
   ],
   "source": [
    "#Covariance indicates the direction of the linear relationship between variables. \n",
    "#Correlation measures both the strength and direction of the linear relationship between two variables.\n",
    "import seaborn as sns\n",
    "dataset=sns.load_dataset('iris')\n",
    "print(dataset.cov())\n",
    "print(dataset.corr())"
   ]
  },
  {
   "cell_type": "markdown",
   "id": "1cc16664-cdb5-4020-a83f-70a326c9a809",
   "metadata": {},
   "source": [
    "# Q14. \n",
    "How do outliers affect measures of central tendency and dispersion? Provide an example."
   ]
  },
  {
   "cell_type": "code",
   "execution_count": 94,
   "id": "43fa4cb2-9173-41e6-9118-3e4b3afdbc0f",
   "metadata": {},
   "outputs": [
    {
     "name": "stdout",
     "output_type": "stream",
     "text": [
      "Mean without outlier:  61.7\n"
     ]
    }
   ],
   "source": [
    "# Outliers affect mean the most. \n",
    "# here's an example:\n",
    "# let's take the following data:\n",
    "data_mean=[45,67,56,46,78,55,75,67,49,79]\n",
    "print(\"Mean without outlier: \",sum(data_mean)/len(data_mean))\n",
    "data_mean_outlier=data_mean\n",
    "data_mean_outlier.append(1000)\n"
   ]
  },
  {
   "cell_type": "code",
   "execution_count": 95,
   "id": "7244d8d9-3432-4382-9bd6-6f0ebd14a31a",
   "metadata": {},
   "outputs": [
    {
     "name": "stdout",
     "output_type": "stream",
     "text": [
      "Mean with outlier:  147.0\n"
     ]
    }
   ],
   "source": [
    "print(\"Mean with outlier: \",sum(data_mean_outlier)/len(data_mean_outlier))"
   ]
  },
  {
   "cell_type": "code",
   "execution_count": 96,
   "id": "b3bb5445-7ec0-4c71-98fd-11f40fff4ad7",
   "metadata": {},
   "outputs": [
    {
     "name": "stdout",
     "output_type": "stream",
     "text": [
      "Median\n",
      "Without outlier:  67\n",
      "With outlier:  67\n"
     ]
    }
   ],
   "source": [
    "# but the median and mode do not change that much\n",
    "# median\n",
    "print(\"Median\")\n",
    "print(\"Without outlier: \",s.median(data_mean))\n",
    "print(\"With outlier: \",s.median(data_mean_outlier))"
   ]
  },
  {
   "cell_type": "code",
   "execution_count": 97,
   "id": "eb8ac6f7-0330-428c-8c47-6042de782004",
   "metadata": {},
   "outputs": [
    {
     "name": "stdout",
     "output_type": "stream",
     "text": [
      "Mode\n",
      "Without outlier:  67\n",
      "With outlier:  67\n"
     ]
    }
   ],
   "source": [
    "# mode\n",
    "print(\"Mode\")\n",
    "print(\"Without outlier: \",s.mode(data_mean))\n",
    "print(\"With outlier: \",s.mode(data_mean_outlier))"
   ]
  },
  {
   "cell_type": "code",
   "execution_count": null,
   "id": "001ed8ed-5634-4422-be58-12efa8a7b858",
   "metadata": {},
   "outputs": [],
   "source": []
  }
 ],
 "metadata": {
  "kernelspec": {
   "display_name": "Python 3 (ipykernel)",
   "language": "python",
   "name": "python3"
  },
  "language_info": {
   "codemirror_mode": {
    "name": "ipython",
    "version": 3
   },
   "file_extension": ".py",
   "mimetype": "text/x-python",
   "name": "python",
   "nbconvert_exporter": "python",
   "pygments_lexer": "ipython3",
   "version": "3.10.8"
  }
 },
 "nbformat": 4,
 "nbformat_minor": 5
}
