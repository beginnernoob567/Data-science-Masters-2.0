{
 "cells": [
  {
   "cell_type": "markdown",
   "id": "4170ae91-d702-424f-b0f9-b44a8787a6fc",
   "metadata": {},
   "source": [
    "# Q1. \n",
    "What is Statistics?"
   ]
  },
  {
   "cell_type": "markdown",
   "id": "10c62ee0-e1bf-44c9-be4b-1d8107f97432",
   "metadata": {},
   "source": [
    "Answer:\n",
    "\n",
    " Statistics is the study and analysis of data.\n",
    " \n",
    " Statistics helps us in summarizing and understanding the data.\n",
    " \n",
    " It helps us gain insights on the data.\n",
    " \n",
    " It helps us make meaning of the data given to us"
   ]
  },
  {
   "cell_type": "markdown",
   "id": "80d9aa2e-33cc-45c3-b4b6-67cab18db144",
   "metadata": {},
   "source": [
    "# Q2.\n",
    "Define the different types of statistics and give an example of when each type might be used."
   ]
  },
  {
   "cell_type": "markdown",
   "id": "b2f192d1-ab54-4190-8df5-03607854cb3a",
   "metadata": {},
   "source": [
    "Answer:\n",
    "\n",
    "There are two types of statistics, that is Descriptive and Inferential.\n",
    "\n",
    "Descriptive statistics helps us summarize our data by using measures of  Central tendency(mean,median and mode) and measures of dispersion(Variance, Standard deviation etc).\n",
    "\n",
    "Inferential statistics is used to analyse our data and draw useful conclusions from it. \n",
    "it helps us find meaningful information from our data and use it further for various other purposes.\n",
    "\n",
    "Example of  Descriptive stats:- Histograms,Barcharts, pie charts\n",
    "\n",
    "Example of  Inferential stats:- Z-test,hypothesis testing\n",
    "\n"
   ]
  },
  {
   "cell_type": "markdown",
   "id": "406e08d0-82b7-4042-a6fc-8fcdd46dd67d",
   "metadata": {},
   "source": [
    "# Q3. \n",
    "What are the different types of data and how do they differ from each other? Provide an example of\n",
    "each type of data."
   ]
  },
  {
   "cell_type": "markdown",
   "id": "442dd469-5b6f-483c-b091-0e5655707ad4",
   "metadata": {},
   "source": [
    "Answer:\n",
    "\n",
    "The different types of data are :\n",
    "\n",
    "i) Quantitative:\n",
    "   These are numeric data or data that can be quantified.\n",
    "    \n",
    "    a) Discrete:- A whole number with a specific range.\n",
    "                  Ex: Age, Number of Bank A/Cs,Number of pencils.\n",
    "    \n",
    "    b) Continuous:- Any infinite value with no specific range\n",
    "                    Ex: Weight, Height, Speed\n",
    "                    \n",
    "ii) Qualitative:\n",
    "    These are categorical data or data with qualities.\n",
    "    \n",
    "    a) Nominal:- These have fixed sets of categories and are pre-defined.\n",
    "                 Ex: Grades, blood groups etc\n",
    "                \n",
    "    b) Ordinal:- These are ranked based data which means data is categorised based on rank.\n",
    "                 Ex: Good, better, best; Easy, Medium, Hard etc."
   ]
  },
  {
   "cell_type": "markdown",
   "id": "176b3eef-9405-4faa-bc5c-3303041ad434",
   "metadata": {},
   "source": [
    "# Q4\n",
    "\n",
    "Categorise the following datasets with respect to quantitative and qualitative data types:\n",
    "\n",
    "(i) Grading in exam: A+, A, B+, B, C+, C, D, E\n",
    "\n",
    "(ii) Colour of mangoes: yellow, green, orange, red\n",
    "\n",
    "(iii) Height data of a class: [178.9, 179, 179.5, 176, 177.2, 178.3, 175.8,...]\n",
    "\n",
    "(iv) Number of mangoes exported by a farm: [500, 600, 478, 672, ...]\n"
   ]
  },
  {
   "cell_type": "markdown",
   "id": "1e74e0ae-7e55-42ac-876a-15229f475972",
   "metadata": {},
   "source": [
    "Answer:\n",
    "\n",
    "i) Qualitative-Nominal Data\n",
    "\n",
    "ii) Qualitative-Nominal Data\n",
    "\n",
    "iii) Quantitative-Continuous Data\n",
    "\n",
    "iv) Quantitative-Discrete Data"
   ]
  },
  {
   "cell_type": "markdown",
   "id": "fc0919c3-5f0f-4e99-ae46-eb09e862853f",
   "metadata": {},
   "source": [
    "# Q5\n",
    "Explain the concept of levels of measurement and give an example of a variable for each level."
   ]
  },
  {
   "cell_type": "markdown",
   "id": "3b55be23-e368-4ea9-80d8-43d2cc46629f",
   "metadata": {},
   "source": [
    "The concept of Levels of Measurement tells us about the vaious properties or the nature of\n",
    "Data based on a scale. To understand this concept better let us take an example:\n",
    "   \n",
    "       -If we take Gender data. We are certain it will contain two values i.e Male and Female\n",
    "    \n",
    "       -If we take temperature of a certain area. The value is not fixed.\n",
    "   \n",
    "       -If we take annual rainfall of a ceratin region. The value varies.\n",
    "   \n",
    "       -If we take a racing championship data. The values are sorted based on ranks.\n",
    "   \n",
    "   For each data mentioned they differ when compared to each other. This is where the concept of \n",
    "    levels of measurement comes in to distinguish these data.\n",
    "    \n",
    "Levels of Measurement:-\n",
    "   \n",
    "   i) Nominal Scale:- This scale tells us about Qualitative data that can be categorised and the order of the categories do not matter.\n",
    "                      For ex:- Types of cares. These are categorised into SUVs,Sports Car, Convertibles and many more\n",
    "  \n",
    "  ii) Ordinal Scale:- This is also Qualitative data but the Rank matters in this Scale.\n",
    "                      For ex:- Grades of  Students. it can be 'A','C' or 'B' but ranking comes into picture.\n",
    " \n",
    " iii) Interval Scale:- This is type of data with equal intervals between each value but it does not have a true zero \n",
    "                       and can measure negative values as well\n",
    "                       For ex:- Temperature can be positive or negative.\n",
    " \n",
    " iv) Ratio Scale:- This is same as Interval scale but values cannot be below Zero. For ex:- Stock prices can never fall below zero."
   ]
  },
  {
   "cell_type": "markdown",
   "id": "748e5ec5-c874-41c9-926a-673a3e60aa94",
   "metadata": {},
   "source": [
    "# Q6\n",
    "Why is it important to understand the level of measurement when analyzing data? Provide an\n",
    "example to illustrate your answer."
   ]
  },
  {
   "cell_type": "markdown",
   "id": "bfaa643c-fed8-4db6-b18e-1b24e2278d11",
   "metadata": {},
   "source": [
    "The concept of Levels of Measurement tells us about the vaious properties or the nature of\n",
    "Data based on a scale. To understand this concept better let us take an example:\n",
    "   \n",
    "       -If we take Gender data. We are certain it will contain two values i.e Male and Female\n",
    "    \n",
    "       -If we take temperature of a certain area. The value is not fixed.\n",
    "   \n",
    "       -If we take annual rainfall of a ceratin region. The value varies.\n",
    "   \n",
    "       -If we take a racing championship data. The values are sorted based on ranks.\n",
    "   \n",
    "   For each data mentioned they differ when compared to each other. This is where the concept of \n",
    "    levels of measurement comes in to distinguish these data.\n",
    "    \n",
    "    It is important to understand levels of measurement as it will give us a brief idea on the type of analysis approach\n",
    "    to be taken for each level of data."
   ]
  },
  {
   "cell_type": "code",
   "execution_count": 14,
   "id": "4db168dd-d987-4d5f-9fe3-eddb14768f49",
   "metadata": {},
   "outputs": [
    {
     "data": {
      "text/html": [
       "<div>\n",
       "<style scoped>\n",
       "    .dataframe tbody tr th:only-of-type {\n",
       "        vertical-align: middle;\n",
       "    }\n",
       "\n",
       "    .dataframe tbody tr th {\n",
       "        vertical-align: top;\n",
       "    }\n",
       "\n",
       "    .dataframe thead th {\n",
       "        text-align: right;\n",
       "    }\n",
       "</style>\n",
       "<table border=\"1\" class=\"dataframe\">\n",
       "  <thead>\n",
       "    <tr style=\"text-align: right;\">\n",
       "      <th></th>\n",
       "      <th>Name</th>\n",
       "      <th>Grade</th>\n",
       "    </tr>\n",
       "  </thead>\n",
       "  <tbody>\n",
       "    <tr>\n",
       "      <th>1</th>\n",
       "      <td>Name2</td>\n",
       "      <td>A</td>\n",
       "    </tr>\n",
       "    <tr>\n",
       "      <th>2</th>\n",
       "      <td>Name3</td>\n",
       "      <td>B</td>\n",
       "    </tr>\n",
       "    <tr>\n",
       "      <th>0</th>\n",
       "      <td>Nmae1</td>\n",
       "      <td>C</td>\n",
       "    </tr>\n",
       "  </tbody>\n",
       "</table>\n",
       "</div>"
      ],
      "text/plain": [
       "    Name Grade\n",
       "1  Name2     A\n",
       "2  Name3     B\n",
       "0  Nmae1     C"
      ]
     },
     "execution_count": 14,
     "metadata": {},
     "output_type": "execute_result"
    }
   ],
   "source": [
    "# For example let's take the following dataset:-\n",
    "# Ordinal Scale\n",
    "dict1={'Name': ['Nmae1','Name2','Name3'],\n",
    "       'Grade':['C','A','B']}\n",
    "df1=pd.DataFrame(dict1)\n",
    "# Here we can sort the data and categorise it based on Grades. This will further help us understand \n",
    "# The rank and percentage of students for each grade.\n",
    "df1.sort_values('Grade')"
   ]
  },
  {
   "cell_type": "code",
   "execution_count": 15,
   "id": "a3274fe3-6b02-49a4-a62a-43d0e47bc36a",
   "metadata": {},
   "outputs": [
    {
     "data": {
      "text/html": [
       "<div>\n",
       "<style scoped>\n",
       "    .dataframe tbody tr th:only-of-type {\n",
       "        vertical-align: middle;\n",
       "    }\n",
       "\n",
       "    .dataframe tbody tr th {\n",
       "        vertical-align: top;\n",
       "    }\n",
       "\n",
       "    .dataframe thead th {\n",
       "        text-align: right;\n",
       "    }\n",
       "</style>\n",
       "<table border=\"1\" class=\"dataframe\">\n",
       "  <thead>\n",
       "    <tr style=\"text-align: right;\">\n",
       "      <th></th>\n",
       "      <th>Name</th>\n",
       "      <th>Gender</th>\n",
       "    </tr>\n",
       "  </thead>\n",
       "  <tbody>\n",
       "    <tr>\n",
       "      <th>0</th>\n",
       "      <td>Nmae1</td>\n",
       "      <td>M</td>\n",
       "    </tr>\n",
       "    <tr>\n",
       "      <th>1</th>\n",
       "      <td>Name2</td>\n",
       "      <td>F</td>\n",
       "    </tr>\n",
       "    <tr>\n",
       "      <th>2</th>\n",
       "      <td>Name3</td>\n",
       "      <td>F</td>\n",
       "    </tr>\n",
       "  </tbody>\n",
       "</table>\n",
       "</div>"
      ],
      "text/plain": [
       "    Name Gender\n",
       "0  Nmae1      M\n",
       "1  Name2      F\n",
       "2  Name3      F"
      ]
     },
     "execution_count": 15,
     "metadata": {},
     "output_type": "execute_result"
    }
   ],
   "source": [
    "# For example let's take another  dataset:-\n",
    "# Nominal Scale\n",
    "dict2={'Name': ['Nmae1','Name2','Name3'],\n",
    "       'Gender':['M','F','F']}\n",
    "df2=pd.DataFrame(dict2)\n",
    "# Here we have gender data where rank dosent matter but only the categories do.\n",
    "# Therefore there is no need to sort the data.\n",
    "df2"
   ]
  },
  {
   "cell_type": "markdown",
   "id": "c00710d2-e1eb-443b-995b-4f6bff6a5237",
   "metadata": {},
   "source": [
    "# Q7\n",
    "How nominal data type is different from ordinal data type."
   ]
  },
  {
   "cell_type": "markdown",
   "id": "19caf7e7-7801-42ab-bc7a-b1db9c62ee83",
   "metadata": {},
   "source": [
    "   i) Nominal Scale:- This scale tells us about Qualitative data that can be categorised and the order of the categories do not matter.\n",
    "                      For ex:- Types of cares. These are categorised into SUVs,Sports Car, Convertibles and many more\n",
    "  \n",
    "  ii) Ordinal Scale:- This is also Qualitative data but the Rank matters in this Scale.\n",
    "                      For ex:- Grades of  Students. it can be 'A','C' or 'B' but ranking comes into picture."
   ]
  },
  {
   "cell_type": "markdown",
   "id": "d5e4f776-4da0-4c0a-895e-857f4d5c6677",
   "metadata": {},
   "source": [
    "# Q8. \n",
    "Which type of plot can be used to display data in terms of range?"
   ]
  },
  {
   "cell_type": "code",
   "execution_count": 17,
   "id": "bef227f1-10ef-4688-950e-35969b6dc6b4",
   "metadata": {},
   "outputs": [
    {
     "data": {
      "text/plain": [
       "(array([3., 1., 2., 1., 1., 2., 2., 0., 1., 2.]),\n",
       " array([ 5. , 13.2, 21.4, 29.6, 37.8, 46. , 54.2, 62.4, 70.6, 78.8, 87. ]),\n",
       " <BarContainer object of 10 artists>)"
      ]
     },
     "execution_count": 17,
     "metadata": {},
     "output_type": "execute_result"
    },
    {
     "data": {
      "image/png": "[encoded data removed]",
      "text/plain": [
       "<Figure size 640x480 with 1 Axes>"
      ]
     },
     "metadata": {},
     "output_type": "display_data"
    }
   ],
   "source": [
    "# Histogram can be used to display data in terms of range\n",
    "\n",
    "#Ex:- \n",
    "\n",
    "\n",
    "import matplotlib.pyplot as plt\n",
    "import numpy as np\n",
    " \n",
    "a = np.array([22, 87, 5, 43, 56, \n",
    "              73, 55, 54, 11,\n",
    "              20, 51, 5, 79, 31,\n",
    "              27])\n",
    "plt.hist(a)"
   ]
  },
  {
   "cell_type": "markdown",
   "id": "193e9eda-932f-4863-b0f0-6c8b19874e65",
   "metadata": {},
   "source": [
    "# Q9.\n",
    "Describe the difference between descriptive and inferential statistics. Give an example of each\n",
    "type of statistics and explain how they are used."
   ]
  },
  {
   "cell_type": "markdown",
   "id": "17dddb71-b886-429c-aa29-3866be17a5a3",
   "metadata": {},
   "source": [
    "\n",
    "There are two types of statistics, that is Descriptive and Inferential.\n",
    "\n",
    "Descriptive statistics helps us summarize our data by using measures of  Central tendency(mean,median and mode) and measures of dispersion(Variance, Standard deviation etc).\n",
    "\n",
    "Inferential statistics is used to analyse our data and draw useful conclusions from it. \n",
    "it helps us find meaningful information from our data and use it further for various other purposes.\n",
    "\n",
    "Example of  Descriptive stats:- Histograms,Barcharts, pie charts\n",
    "\n",
    "Example of  Inferential stats:- Z-test,hypothesis testing\n"
   ]
  },
  {
   "cell_type": "markdown",
   "id": "b80dce64-71f9-4db2-84ab-dd2d41dc2fae",
   "metadata": {},
   "source": [
    "# Q10. \n",
    "What are some common measures of central tendency and variability used in statistics? Explain\n",
    "how each measure can be used to describe a dataset."
   ]
  },
  {
   "cell_type": "markdown",
   "id": "59c036b2-8fa7-450f-9034-d4796c3c620a",
   "metadata": {},
   "source": [
    "Measures of Central Tendency are :\n",
    "1) Mean- Gives the average of the data\n",
    "2) Median- Central poinnt of the data\n",
    "3) Mode- Frequency of the data."
   ]
  },
  {
   "cell_type": "code",
   "execution_count": 32,
   "id": "6e13b909-0cb3-4692-8ba5-765f04af355b",
   "metadata": {},
   "outputs": [
    {
     "name": "stdout",
     "output_type": "stream",
     "text": [
      "Mean is used to calculate the average and it gives us a value that tells us our data has an average of this values.\n",
      " A    10.411765\n",
      "dtype: float64\n",
      "Median is used to find the central point of our data which tells us 50% of the values are less than median and 50% are greater\n",
      " A    9.0\n",
      "dtype: float64\n",
      "Mode gives us the Frequency of the data\n",
      "    A\n",
      "0  2\n",
      "1  5\n",
      "2  6\n",
      "3  7\n"
     ]
    }
   ],
   "source": [
    "list1=[ 23, 21, 18, 16, 15, 13, 12, 10, 9, 7, 6, 5, 2, 7, 6, 5, 2]\n",
    "df3=pd.DataFrame({'A':list1})\n",
    "print('Mean is used to calculate the average and it gives us a value that tells us our data has an average of this values.\\n',df3.mean())\n",
    "print('Median is used to find the central point of our data which tells us 50% of the values are less than median and 50% are greater\\n',df3.median())\n",
    "print('Mode gives us the Frequency of the data\\n',df3.mode())"
   ]
  },
  {
   "cell_type": "code",
   "execution_count": null,
   "id": "9dfaae69-2f10-444d-be2b-e54de84d38a0",
   "metadata": {},
   "outputs": [],
   "source": []
  }
 ],
 "metadata": {
  "kernelspec": {
   "display_name": "Python 3 (ipykernel)",
   "language": "python",
   "name": "python3"
  },
  "language_info": {
   "codemirror_mode": {
    "name": "ipython",
    "version": 3
   },
   "file_extension": ".py",
   "mimetype": "text/x-python",
   "name": "python",
   "nbconvert_exporter": "python",
   "pygments_lexer": "ipython3",
   "version": "3.10.8"
  }
 },
 "nbformat": 4,
 "nbformat_minor": 5
}
