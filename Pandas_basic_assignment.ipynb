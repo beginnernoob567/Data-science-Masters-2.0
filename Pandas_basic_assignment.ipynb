{
 "cells": [
  {
   "cell_type": "code",
   "execution_count": 1,
   "id": "e102e651-ec80-4775-b19d-274b503898f4",
   "metadata": {},
   "outputs": [],
   "source": [
    "import pandas as pd"
   ]
  },
  {
   "cell_type": "markdown",
   "id": "81cca493-0005-46d9-9362-9fdca084a6f3",
   "metadata": {},
   "source": [
    "Q1. Create a Pandas Series that contains the following data: 4, 8, 15, 16, 23, and 42. Then, print the series."
   ]
  },
  {
   "cell_type": "code",
   "execution_count": 6,
   "id": "78d5d3d1-df39-41ce-b319-f651043e0894",
   "metadata": {},
   "outputs": [
    {
     "name": "stdout",
     "output_type": "stream",
     "text": [
      "<class 'pandas.core.series.Series'>\n",
      "0     4\n",
      "1     8\n",
      "2    15\n",
      "3    16\n",
      "4    23\n",
      "5    42\n",
      "dtype: int64\n"
     ]
    }
   ],
   "source": [
    "# To create a pandas series we use the pd.Series() function\n",
    "x=pd.Series([4,8,15,16,23,42])\n",
    "print(type(x))\n",
    "print(x)"
   ]
  },
  {
   "cell_type": "markdown",
   "id": "aa4033cf-c5c6-450c-a184-1b42f4e04bf8",
   "metadata": {},
   "source": [
    "Q2. Create a variable of list type containing 10 elements in it, and apply pandas.Series function on the\n",
    "variable print it."
   ]
  },
  {
   "cell_type": "code",
   "execution_count": 14,
   "id": "8331ea74-e992-4673-a4d7-570997980dd2",
   "metadata": {},
   "outputs": [
    {
     "name": "stdout",
     "output_type": "stream",
     "text": [
      "[4, 8, 15, 16, 23, 42, 67, 876, 678, 456]\n",
      "<class 'list'>\n",
      "0      4\n",
      "1      8\n",
      "2     15\n",
      "3     16\n",
      "4     23\n",
      "5     42\n",
      "6     67\n",
      "7    876\n",
      "8    678\n",
      "9    456\n",
      "dtype: int64\n",
      "10\n",
      "<class 'pandas.core.series.Series'>\n"
     ]
    }
   ],
   "source": [
    "data=[4,8,15,16,23,42,67,876,678,456]\n",
    "print(data)\n",
    "print(type(data))\n",
    "series=pd.Series(data)\n",
    "print(series)\n",
    "print(len(series))\n",
    "print(type(series))"
   ]
  },
  {
   "cell_type": "markdown",
   "id": "302f2d59-8180-4967-83c5-d6dd5a0a1296",
   "metadata": {},
   "source": [
    "Q3. Create a Pandas DataFrame"
   ]
  },
  {
   "cell_type": "code",
   "execution_count": 15,
   "id": "68f72e08-441a-4f8c-8b73-77154308ed16",
   "metadata": {},
   "outputs": [
    {
     "name": "stdout",
     "output_type": "stream",
     "text": [
      "{'Name': ['Alice', 'Bob', 'Claire'], 'Age': [25, 30, 27], 'Gender': ['Female', 'Male', 'Female']}\n",
      "<class 'dict'>\n",
      "     Name  Age  Gender\n",
      "0   Alice   25  Female\n",
      "1     Bob   30    Male\n",
      "2  Claire   27  Female\n",
      "<class 'pandas.core.frame.DataFrame'>\n"
     ]
    }
   ],
   "source": [
    "# To create a DataFrame we use pd.DataFrame function\n",
    "dictionary={'Name': ['Alice','Bob','Claire'],'Age':[25,30,27],'Gender':['Female','Male','Female']}\n",
    "print(dictionary)\n",
    "print(type(dictionary))\n",
    "dataF=pd.DataFrame(dictionary)\n",
    "print(dataF)\n",
    "print(type(dataF))"
   ]
  },
  {
   "cell_type": "markdown",
   "id": "d462335e-afd9-4c41-9cb5-d069e5208f4c",
   "metadata": {},
   "source": [
    "Q4. What is ‘DataFrame’ in pandas and how is it different from pandas.series? Explain with an example."
   ]
  },
  {
   "cell_type": "code",
   "execution_count": 25,
   "id": "11f314ce-8a83-4094-bbc3-6fd0fea8c82a",
   "metadata": {},
   "outputs": [
    {
     "name": "stdout",
     "output_type": "stream",
     "text": [
      "DataFrame is two-dimensional:\n",
      "      Name  Age  Gender\n",
      "0   Alice   25  Female\n",
      "1     Bob   30    Male\n",
      "2  Claire   27  Female\n",
      "Series is one-dimensional:\n",
      " [4, 8, 15, 16, 23, 42, 67, 876, 678, 456]\n"
     ]
    }
   ],
   "source": [
    "#  A Data frame is a two-dimensional data structure, i.e., data is aligned in a tabular fashion in rows and columns. Pandas DataFrame consists of three principal components, the data, rows, and columns.\n",
    "#Example of DataFrame:-\n",
    "dictionary={'Name': ['Alice','Bob','Claire'],'Age':[25,30,27],'Gender':['Female','Male','Female']}\n",
    "dataF=pd.DataFrame(dictionary)\n",
    "print(\"DataFrame is two-dimensional:\\n\",dataF)\n",
    "# A Series is a one-dimensional labeled array capable of holding data of any type \n",
    "#Example of Series\n",
    "data=[4,8,15,16,23,42,67,876,678,456]\n",
    "series=pd.Series(data)\n",
    "print(\"Series is one-dimensional:\\n\",data)"
   ]
  },
  {
   "cell_type": "markdown",
   "id": "e015236a-b857-4f87-bd8d-35fc672893be",
   "metadata": {},
   "source": [
    "Q5. What are some common functions you can use to manipulate data in a Pandas DataFrame? Can\n",
    "you give an example of when you might use one of these functions?"
   ]
  },
  {
   "cell_type": "code",
   "execution_count": 39,
   "id": "838e8afd-4509-4c65-b006-c3b700a21791",
   "metadata": {},
   "outputs": [
    {
     "name": "stdout",
     "output_type": "stream",
     "text": [
      "    Name  Age  Gender\n",
      "0  Alice   25  Female \n",
      "\n",
      "     Name  Age  Gender\n",
      "2  Claire   27  Female \n",
      "\n",
      "0     Alice\n",
      "1       Bob\n",
      "2    Claire\n",
      "Name: Name, dtype: object \n",
      "\n",
      "0    False\n",
      "1     True\n",
      "2     True\n",
      "Name: Age, dtype: bool \n",
      "\n",
      "0     True\n",
      "1    False\n",
      "2     True\n",
      "Name: Gender, dtype: bool \n",
      "\n",
      "    Name    Age  Gender\n",
      "0  False  False   False\n",
      "1  False  False   False\n",
      "2  False  False   False \n",
      "\n"
     ]
    }
   ],
   "source": [
    "# There are various functions that can be used to manipulate data in pandas.\n",
    "# These are\n",
    "print(dataF.head(1),\"\\n\")\n",
    "print(dataF.tail(1),\"\\n\")\n",
    "print(dataF['Name'],\"\\n\")\n",
    "print(dataF['Age']>25,\"\\n\")\n",
    "print(dataF['Gender']=='Female',\"\\n\")\n",
    "print(dataF.isnull(),\"\\n\")"
   ]
  },
  {
   "cell_type": "markdown",
   "id": "37312e07-68da-445d-b0d6-f2d591fd012a",
   "metadata": {},
   "source": [
    "Q6. Which of the following is mutable in nature Series, DataFrame, Panel?"
   ]
  },
  {
   "cell_type": "markdown",
   "id": "7506dd30-100a-4e58-b3ce-34841c3eb556",
   "metadata": {},
   "source": [
    "### DataFrame and Panel are mutable in nature"
   ]
  },
  {
   "cell_type": "markdown",
   "id": "a35bc26b-4f75-417a-9c13-7f719d1b4e11",
   "metadata": {},
   "source": [
    "Q7. Create a DataFrame using multiple Series. Explain with an example."
   ]
  },
  {
   "cell_type": "code",
   "execution_count": 44,
   "id": "1ca0877f-cea9-41b4-89c9-283aa72fc0ad",
   "metadata": {},
   "outputs": [],
   "source": [
    "series1=pd.Series(['Alice','Bob','Claire'])\n",
    "series2=pd.Series([25,30,27])\n",
    "series3=pd.Series(['Female','Male','Female'])"
   ]
  },
  {
   "cell_type": "code",
   "execution_count": 49,
   "id": "0a968082-adf0-4e94-bcc3-e0fb284524a9",
   "metadata": {},
   "outputs": [],
   "source": [
    "dataF2=pd.DataFrame([series1,series2,series3])"
   ]
  },
  {
   "cell_type": "code",
   "execution_count": 52,
   "id": "ad8ee2da-3c62-4306-9c18-e2a60b96c0df",
   "metadata": {},
   "outputs": [
    {
     "data": {
      "text/html": [
       "<div>\n",
       "<style scoped>\n",
       "    .dataframe tbody tr th:only-of-type {\n",
       "        vertical-align: middle;\n",
       "    }\n",
       "\n",
       "    .dataframe tbody tr th {\n",
       "        vertical-align: top;\n",
       "    }\n",
       "\n",
       "    .dataframe thead th {\n",
       "        text-align: right;\n",
       "    }\n",
       "</style>\n",
       "<table border=\"1\" class=\"dataframe\">\n",
       "  <thead>\n",
       "    <tr style=\"text-align: right;\">\n",
       "      <th></th>\n",
       "      <th>0</th>\n",
       "      <th>1</th>\n",
       "      <th>2</th>\n",
       "    </tr>\n",
       "  </thead>\n",
       "  <tbody>\n",
       "    <tr>\n",
       "      <th>0</th>\n",
       "      <td>Alice</td>\n",
       "      <td>Bob</td>\n",
       "      <td>Claire</td>\n",
       "    </tr>\n",
       "    <tr>\n",
       "      <th>1</th>\n",
       "      <td>25</td>\n",
       "      <td>30</td>\n",
       "      <td>27</td>\n",
       "    </tr>\n",
       "    <tr>\n",
       "      <th>2</th>\n",
       "      <td>Female</td>\n",
       "      <td>Male</td>\n",
       "      <td>Female</td>\n",
       "    </tr>\n",
       "  </tbody>\n",
       "</table>\n",
       "</div>"
      ],
      "text/plain": [
       "        0     1       2\n",
       "0   Alice   Bob  Claire\n",
       "1      25    30      27\n",
       "2  Female  Male  Female"
      ]
     },
     "execution_count": 52,
     "metadata": {},
     "output_type": "execute_result"
    }
   ],
   "source": [
    "dataF2"
   ]
  },
  {
   "cell_type": "code",
   "execution_count": null,
   "id": "ea36bb35-e98f-498e-bb56-b35137133f91",
   "metadata": {},
   "outputs": [],
   "source": []
  }
 ],
 "metadata": {
  "kernelspec": {
   "display_name": "Python 3 (ipykernel)",
   "language": "python",
   "name": "python3"
  },
  "language_info": {
   "codemirror_mode": {
    "name": "ipython",
    "version": 3
   },
   "file_extension": ".py",
   "mimetype": "text/x-python",
   "name": "python",
   "nbconvert_exporter": "python",
   "pygments_lexer": "ipython3",
   "version": "3.10.8"
  }
 },
 "nbformat": 4,
 "nbformat_minor": 5
}
