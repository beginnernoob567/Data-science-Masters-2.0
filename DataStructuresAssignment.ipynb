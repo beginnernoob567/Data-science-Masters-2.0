{
 "cells": [
  {
   "cell_type": "markdown",
   "id": "210caf16-3df6-4887-beb5-baf12964d079",
   "metadata": {},
   "source": [
    "Q1. How do you comment code in Python? What are the different types of comments?\n"
   ]
  },
  {
   "cell_type": "code",
   "execution_count": 1,
   "id": "523008bc-8d57-4c7b-83e1-c73a4895af29",
   "metadata": {},
   "outputs": [
    {
     "data": {
      "text/plain": [
       "'\\nMulti line comments\\nfsdfvsf\\ndsfsggb\\nfssdsv\\n'"
      ]
     },
     "execution_count": 1,
     "metadata": {},
     "output_type": "execute_result"
    }
   ],
   "source": [
    "#This is how code is commented in python using a '#'\n",
    "\"\"\"\n",
    "Multi line comments\n",
    "fsdfvsf\n",
    "dsfsggb\n",
    "fssdsv\n",
    "\"\"\""
   ]
  },
  {
   "cell_type": "markdown",
   "id": "0edb9ec9-acaa-4dc2-9e75-9b32ab9a5fe3",
   "metadata": {},
   "source": [
    "Q2. What are variables in Python? How do you declare and assign values to variables?"
   ]
  },
  {
   "cell_type": "code",
   "execution_count": 2,
   "id": "cd7c40f4-b557-4263-a705-f702c11f570d",
   "metadata": {},
   "outputs": [
    {
     "data": {
      "text/plain": [
       "1"
      ]
     },
     "execution_count": 2,
     "metadata": {},
     "output_type": "execute_result"
    }
   ],
   "source": [
    "#Variables are objects that refer to a value\n",
    "#Example:-\n",
    "A=1 #A is a variable\n",
    "A"
   ]
  },
  {
   "cell_type": "markdown",
   "id": "1e624065-6bc5-418e-9eff-3a05b4f49795",
   "metadata": {},
   "source": [
    "Q3. How do you convert one data type to another in Python?"
   ]
  },
  {
   "cell_type": "code",
   "execution_count": 3,
   "id": "da5989a2-bc9d-438b-9856-8ecfbe7fb838",
   "metadata": {},
   "outputs": [
    {
     "name": "stdout",
     "output_type": "stream",
     "text": [
      "<class 'int'>\n",
      "<class 'str'>\n"
     ]
    }
   ],
   "source": [
    "print(type(A))\n",
    "A=str(A)\n",
    "print(type(A))"
   ]
  },
  {
   "cell_type": "markdown",
   "id": "13997b68-0c4a-4184-8417-e375ca89cc19",
   "metadata": {},
   "source": [
    "Q4. How do you write and execute a Python script from the command line?"
   ]
  },
  {
   "cell_type": "code",
   "execution_count": 4,
   "id": "5aa451c0-fd3a-4d78-925b-a86e3a7c7e57",
   "metadata": {},
   "outputs": [],
   "source": [
    "# To write and execute a python script from the command line we \n",
    "# have to open command promt and go to the directory where our python script is stored.\n",
    "# We the type the command python file_name.py\n",
    "# This will execute our python script in the command line"
   ]
  },
  {
   "cell_type": "markdown",
   "id": "278fc682-b0ed-4438-9ef8-055d7cbab01c",
   "metadata": {},
   "source": [
    "Q5. Given a list my_list = [1, 2, 3, 4, 5], write the code to slice the list and obtain the sub-list [2, 3]."
   ]
  },
  {
   "cell_type": "code",
   "execution_count": 5,
   "id": "89f474f5-f725-404e-bca6-ff1f8a2e9059",
   "metadata": {},
   "outputs": [],
   "source": [
    "my_list=[1,2,3,4,5]"
   ]
  },
  {
   "cell_type": "code",
   "execution_count": 8,
   "id": "3aebaf20-0482-48d9-8834-579094244504",
   "metadata": {},
   "outputs": [
    {
     "data": {
      "text/plain": [
       "[3, 4]"
      ]
     },
     "execution_count": 8,
     "metadata": {},
     "output_type": "execute_result"
    }
   ],
   "source": [
    "# To slice the list we just mention the indexes needed.\n",
    "my_list[2:4]"
   ]
  },
  {
   "cell_type": "markdown",
   "id": "5a13b3da-6783-4ebc-a19d-6e45ac3c89fe",
   "metadata": {},
   "source": [
    "Q6. What is a complex number in mathematics, and how is it represented in Python?"
   ]
  },
  {
   "cell_type": "code",
   "execution_count": 11,
   "id": "350e225f-4e67-4447-a6e3-bcc333ee02de",
   "metadata": {},
   "outputs": [
    {
     "name": "stdout",
     "output_type": "stream",
     "text": [
      "This is a complex number: \n"
     ]
    },
    {
     "data": {
      "text/plain": [
       "(3+4j)"
      ]
     },
     "execution_count": 11,
     "metadata": {},
     "output_type": "execute_result"
    }
   ],
   "source": [
    "# A complex number is a number along with i or j.\n",
    "# A complex number is represented in the form of a+bi\n",
    "# Where a and b are real numbers and i is an imaginagry number.\n",
    "import cmath\n",
    "print(\"This is a complex number: \")\n",
    "z=complex(3,4)\n",
    "z"
   ]
  },
  {
   "cell_type": "markdown",
   "id": "3f8d97ea-31e2-45e9-b02b-0ae8bc260c4a",
   "metadata": {},
   "source": [
    "Q7. What is the correct way to declare a variable named age and assign the value 25 to it?"
   ]
  },
  {
   "cell_type": "code",
   "execution_count": 13,
   "id": "88f587f4-6aa0-4612-a882-058a087ae4f3",
   "metadata": {},
   "outputs": [],
   "source": [
    "# To declare a variablle we just assign a value to it or we can \n",
    "# make is global using the global keyword\n",
    "global a\n",
    "a=25 \n",
    "# or \n",
    "# we can directly assign 25 to a variable\n",
    "b=25"
   ]
  },
  {
   "cell_type": "markdown",
   "id": "2b22b270-579a-4864-826e-56b496a57076",
   "metadata": {},
   "source": [
    "Q8. Declare a variable named price and assign the value 9.99 to it. What data type does this variable\n",
    "belong to?"
   ]
  },
  {
   "cell_type": "code",
   "execution_count": 14,
   "id": "5143188f-9ea1-485e-a8bd-5eab06595765",
   "metadata": {},
   "outputs": [
    {
     "data": {
      "text/plain": [
       "float"
      ]
     },
     "execution_count": 14,
     "metadata": {},
     "output_type": "execute_result"
    }
   ],
   "source": [
    "price=9.99\n",
    "type(price)"
   ]
  },
  {
   "cell_type": "code",
   "execution_count": 15,
   "id": "f328fef5-3856-4076-b5d7-0b49244826e4",
   "metadata": {},
   "outputs": [],
   "source": [
    "# This variable belongs to float datatype"
   ]
  },
  {
   "cell_type": "markdown",
   "id": "c048468b-c86e-4d1c-af43-e4ab598a1539",
   "metadata": {},
   "source": [
    "Q9. Create a variable named name and assign your full name to it as a string. How would you print the\n",
    "value of this variable?"
   ]
  },
  {
   "cell_type": "code",
   "execution_count": 16,
   "id": "b7cd4a3e-f209-4026-b427-69ce1c661b0e",
   "metadata": {},
   "outputs": [],
   "source": [
    "name='Krish K Rajpal'"
   ]
  },
  {
   "cell_type": "code",
   "execution_count": 17,
   "id": "4ba7a790-0b5b-49d3-a13f-6559afdd7ca0",
   "metadata": {},
   "outputs": [
    {
     "name": "stdout",
     "output_type": "stream",
     "text": [
      "Type of variable name is: \n",
      "<class 'str'>\n",
      "Value of name is: Krish K Rajpal\n"
     ]
    }
   ],
   "source": [
    "print(\"Type of variable name is: \")\n",
    "print(type(name))\n",
    "print(\"Value of name is: \"+name)\n"
   ]
  },
  {
   "cell_type": "markdown",
   "id": "35ecdbcc-380c-4c0f-accb-f9b0006c30cc",
   "metadata": {},
   "source": [
    "Q10. Given the string \"Hello, World!\", extract the substring \"World\"."
   ]
  },
  {
   "cell_type": "code",
   "execution_count": 21,
   "id": "6c6377ba-6244-497f-981b-33b8713f0494",
   "metadata": {},
   "outputs": [
    {
     "name": "stdout",
     "output_type": "stream",
     "text": [
      "World\n"
     ]
    }
   ],
   "source": [
    "String=\"Hello,World!\"\n",
    "print(String[6:len(String)-1])"
   ]
  },
  {
   "cell_type": "markdown",
   "id": "b2b705ee-3634-4e8b-ba74-ebf25a01a892",
   "metadata": {},
   "source": [
    "Q11. Create a variable named \"is_student\" and assign it a boolean value indicating whether you are\n",
    "currently a student or not."
   ]
  },
  {
   "cell_type": "code",
   "execution_count": 22,
   "id": "dc800153-401c-449b-9b67-6a6b927f1c4f",
   "metadata": {},
   "outputs": [],
   "source": [
    "is_student=True"
   ]
  },
  {
   "cell_type": "code",
   "execution_count": 23,
   "id": "13f017e3-710b-42ca-b80c-0814f8dc13e0",
   "metadata": {},
   "outputs": [
    {
     "name": "stdout",
     "output_type": "stream",
     "text": [
      "True\n"
     ]
    }
   ],
   "source": [
    "print(is_student)"
   ]
  },
  {
   "cell_type": "code",
   "execution_count": null,
   "id": "30cdf5ba-15d5-49dd-ada9-faf2f33e57aa",
   "metadata": {},
   "outputs": [],
   "source": []
  }
 ],
 "metadata": {
  "kernelspec": {
   "display_name": "Python 3 (ipykernel)",
   "language": "python",
   "name": "python3"
  },
  "language_info": {
   "codemirror_mode": {
    "name": "ipython",
    "version": 3
   },
   "file_extension": ".py",
   "mimetype": "text/x-python",
   "name": "python",
   "nbconvert_exporter": "python",
   "pygments_lexer": "ipython3",
   "version": "3.10.8"
  }
 },
 "nbformat": 4,
 "nbformat_minor": 5
}
