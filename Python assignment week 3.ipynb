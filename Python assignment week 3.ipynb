{
 "cells": [
  {
   "cell_type": "markdown",
   "id": "3d6979e3-bc59-4ad0-8c3b-55212333f279",
   "metadata": {},
   "source": [
    "Q1. Create a python program to sort the given list of tuples based on integer value using a\n",
    "lambda function.\n",
    "\n",
    "[('Sachin Tendulkar', 34357), ('Ricky Ponting', 27483), ('Jack Kallis', 25534), ('Virat Kohli', 24936)]"
   ]
  },
  {
   "cell_type": "code",
   "execution_count": 23,
   "id": "60387f2d-b5d3-4d3e-89d9-5d5e0c790aa9",
   "metadata": {},
   "outputs": [
    {
     "name": "stdout",
     "output_type": "stream",
     "text": [
      "The original list is: [('Sachin Tendulkar', 34357), ('Ricky Ponting', 27483), ('Jack Kallis', 25534), ('Virat Kohli', 24936)]\n",
      "The sorted list is : \n",
      "[('Virat Kohli', 24936), ('Jack Kallis', 25534), ('Ricky Ponting', 27483), ('Sachin Tendulkar', 34357)]\n"
     ]
    }
   ],
   "source": [
    "lis=[('Sachin Tendulkar', 34357), ('Ricky Ponting', 27483), ('Jack Kallis', 25534), ('Virat Kohli', 24936)]\n",
    "print(f\"The original list is: {lis}\")\n",
    "print(f\"The sorted list is : \\n{sorted(lis,key=lambda x:x[1])}\")"
   ]
  },
  {
   "cell_type": "markdown",
   "id": "54540806-54cf-44a9-a789-731cc1d0e754",
   "metadata": {},
   "source": [
    "Q2. Write a Python Program to find the squares of all the numbers in the given list of integers using\n",
    "lambda and map functions.\n",
    "\n",
    "[1, 2, 3, 4, 5, 6, 7, 8, 9, 10]"
   ]
  },
  {
   "cell_type": "code",
   "execution_count": 9,
   "id": "72c1d678-f3fa-478f-8d29-ce675a8170e9",
   "metadata": {},
   "outputs": [
    {
     "name": "stdout",
     "output_type": "stream",
     "text": [
      "Given list is [1, 2, 3, 4, 5, 6, 7, 8, 9, 10]\n",
      "The squared of the above list is:  [1, 4, 9, 16, 25, 36, 49, 64, 81, 100]\n"
     ]
    }
   ],
   "source": [
    "lis=[1,2,3,4,5,6,7,8,9,10]\n",
    "\n",
    "# lambda functions are anonymous functions that can be used as an alternative for a one liner code\n",
    "# map fucntion is used to map each element to the function and return the required value\n",
    "print(f\"Given list is {lis}\")\n",
    "a=lambda x:x**2  # we define the lambda fucntion and return the squre of the number\n",
    "print(\"The squared of the above list is: \",list(map(a,lis))) # we use map fucntion to iterate through the list and return the squares of numbers as a list. "
   ]
  },
  {
   "cell_type": "markdown",
   "id": "fd95ff8a-ac7c-483f-b3fd-b8a77c1e3db1",
   "metadata": {},
   "source": [
    "Q3. Write a python program to convert the given list of integers into a tuple of strings. Use map and\n",
    "lambda functions\n",
    "\n",
    "Given String: [1, 2, 3, 4, 5, 6, 7, 8, 9, 10]\n",
    "\n",
    "Expected output: ('1', '2', '3', '4', '5', '6', '7', '8', '9', '10')"
   ]
  },
  {
   "cell_type": "code",
   "execution_count": 10,
   "id": "f2fad6e0-dee1-40ca-9713-49f58a554b07",
   "metadata": {},
   "outputs": [
    {
     "name": "stdout",
     "output_type": "stream",
     "text": [
      "Given string is: [1, 2, 3, 4, 5, 6, 7, 8, 9, 10]\n",
      "Required output is:\n",
      "('1', '2', '3', '4', '5', '6', '7', '8', '9', '10')\n"
     ]
    }
   ],
   "source": [
    "nums=[1,2,3,4,5,6,7,8,9,10]\n",
    "print(f\"Given string is: {nums}\")\n",
    "a=lambda x:str(x) # we convert the datatype from int to str using str()\n",
    "print(\"Required output is:\")\n",
    "print(tuple(map(a,nums))) # we store the map in a tuple since the required output is a tuple"
   ]
  },
  {
   "cell_type": "markdown",
   "id": "b295e676-f45f-4cfd-94b2-4fe89962393b",
   "metadata": {},
   "source": [
    "Q4. Write a python program using reduce function to compute the product of a list containing numbers\n",
    "from 1 to 25."
   ]
  },
  {
   "cell_type": "code",
   "execution_count": 12,
   "id": "6e3e84c7-c378-44be-a28d-4af01751079c",
   "metadata": {},
   "outputs": [
    {
     "name": "stdout",
     "output_type": "stream",
     "text": [
      "The given list is : [1, 2, 3, 4, 5, 6, 7, 8, 9, 10, 11, 12, 13, 14, 15, 16, 17, 18, 19, 20, 21, 22, 23, 24, 25]\n",
      "The product of all numbers in the list using reduce function is: \n",
      "15511210043330985984000000\n"
     ]
    }
   ],
   "source": [
    "from functools import reduce\n",
    "# Reduce functions are used to reduce the nnumbers to one singele output by performing functions specified. \n",
    "lis=[i for i in range(1,26)]\n",
    "print(f\"The given list is : {lis}\")\n",
    "print(f\"The product of all numbers in the list using reduce function is: \\n{reduce(lambda x,y:x*y,lis)}\")"
   ]
  },
  {
   "cell_type": "markdown",
   "id": "dd93e7aa-0ec9-4e3d-8fe6-295db80bb555",
   "metadata": {},
   "source": [
    "Q5. Write a python program to filter the numbers in a given list that are divisible by 2 and 3 using the\n",
    "filter function.\n",
    "\n",
    "[2, 3, 6, 9, 27, 60, 90, 120, 55, 46]"
   ]
  },
  {
   "cell_type": "code",
   "execution_count": 16,
   "id": "5efb6f05-9d96-4aed-8486-7844c1de7cf0",
   "metadata": {},
   "outputs": [
    {
     "name": "stdout",
     "output_type": "stream",
     "text": [
      "Our given list is:[2, 3, 6, 9, 27, 60, 90, 120, 55, 46]\n",
      "The numbers that are divisible by 2 and 3 are: \n",
      "[6, 60, 90, 120]\n"
     ]
    }
   ],
   "source": [
    "#filter is used to filter out values based on a certain condition\n",
    "lis=[2, 3, 6, 9, 27, 60, 90, 120, 55, 46]\n",
    "print(f\"Our given list is:{lis}\")\n",
    "print(f\"The numbers that are divisible by 2 and 3 are: \\n{list(filter(lambda x: x%2==0 and x%3==0,lis))}\")"
   ]
  },
  {
   "cell_type": "markdown",
   "id": "8c981907-3953-47e4-a746-1116fcba180f",
   "metadata": {},
   "source": [
    "Q6. Write a python program to find palindromes in the given list of strings using lambda and filter\n",
    "function.\n",
    "\n",
    "['python', 'php', 'aba', 'radar', 'level']"
   ]
  },
  {
   "cell_type": "code",
   "execution_count": 22,
   "id": "f72e591b-f796-4c85-82a9-2ad3491a34b9",
   "metadata": {},
   "outputs": [
    {
     "name": "stdout",
     "output_type": "stream",
     "text": [
      "The given strings are as follows: ['python', 'php', 'aba', 'radar', 'level']\n",
      "The reverse of all strings are: ['nohtyp', 'php', 'aba', 'radar', 'level']\n",
      "The list of palindromes are: \n",
      "['php', 'aba', 'radar', 'level']\n"
     ]
    }
   ],
   "source": [
    "x=['python', 'php', 'aba', 'radar', 'level']\n",
    "print(f\"The given strings are as follows: {x}\")\n",
    "print(f\"The reverse of all strings are: {list(map(lambda y:y[::-1],x))}\")\n",
    "print(f\"The list of palindromes are: \\n{list(filter(lambda y:y[::-1]==y,x))}\")"
   ]
  },
  {
   "cell_type": "code",
   "execution_count": null,
   "id": "e68df4fa-14cf-414a-be73-b4076626ffb1",
   "metadata": {},
   "outputs": [],
   "source": []
  }
 ],
 "metadata": {
  "kernelspec": {
   "display_name": "Python 3 (ipykernel)",
   "language": "python",
   "name": "python3"
  },
  "language_info": {
   "codemirror_mode": {
    "name": "ipython",
    "version": 3
   },
   "file_extension": ".py",
   "mimetype": "text/x-python",
   "name": "python",
   "nbconvert_exporter": "python",
   "pygments_lexer": "ipython3",
   "version": "3.10.8"
  }
 },
 "nbformat": 4,
 "nbformat_minor": 5
}
